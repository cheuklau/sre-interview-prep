{
 "cells": [
  {
   "cell_type": "markdown",
   "metadata": {},
   "source": [
    "## Table of Contents"
   ]
  },
  {
   "cell_type": "markdown",
   "metadata": {},
   "source": [
    "## Find Loop\n",
    "\n",
    "### Description\n",
    "\n",
    "Write a function that takes in the head of a singly-linked list that contains a loop. The function should return the node from which the loop originates in constant space.\n",
    "\n",
    "### Example:\n",
    "\n",
    "N/A\n",
    "\n",
    "### Initial Thoughts\n",
    "\n",
    "Set a slow and fast pointer one and two positions ahead of head. For each iteration, move the slow pointer one position ahead and fast pointer two positions ahead. Eventually, they meet meet at some point in the loop, specifically they will meet at the point where the distance before the loop is equal to the distance remaining to complete the loop. Therefore, we reset the slow pointer, and move both the fast and slow pointers one position at a time until they meet. The time complexity is O(n) and the space complexity is O(1).\n",
    "\n",
    "### Optimal Solution\n",
    "\n",
    "Same as initial thoughts."
   ]
  },
  {
   "cell_type": "code",
   "execution_count": 1,
   "metadata": {},
   "outputs": [],
   "source": [
    "class LinkedList:\n",
    "    def __init__(self, value):\n",
    "        self.value = value\n",
    "        self.next = None\n",
    "\n",
    "\n",
    "def findLoop(head):\n",
    "    slow = head.next\n",
    "    fast = head.next.next\n",
    "    while slow != fast:\n",
    "        slow = slow.next\n",
    "        fast = fast.next.next\n",
    "    slow = head\n",
    "    while slow != fast:\n",
    "        slow = slow.next\n",
    "        fast = fast.next\n",
    "    return slow"
   ]
  },
  {
   "cell_type": "markdown",
   "metadata": {},
   "source": [
    "## Reverse Linked List\n",
    "\n",
    "### Description\n",
    "\n",
    "Write a function that takes in the head oof a singly linked list, reverse the node in place and returns its new head.\n",
    "\n",
    "### Example:\n",
    "\n",
    "N/A\n",
    "\n",
    "### Initial Thoughts\n",
    "\n",
    "This is a classic linked list problem. The idea is to use three pointers initially occupying the first three nodes. We point the next of the second node to the first node and then move all three nodes forward. We continue until the second poionter is null. The time complexity is O(n) where n is the number of nodes and space complexity is O(1).\n",
    "\n",
    "### Optimal Solution\n",
    "\n",
    "Same as initial thoughts."
   ]
  },
  {
   "cell_type": "code",
   "execution_count": 1,
   "metadata": {},
   "outputs": [],
   "source": [
    "def reverseLinkedList(head):\n",
    "    p1 = None\n",
    "    p2 = head\n",
    "    while p2 is not None:\n",
    "        p3 = p2.next\n",
    "        p2.next = p1\n",
    "        p1 = p2\n",
    "        p2 = p3\n",
    "    return p1"
   ]
  },
  {
   "cell_type": "code",
   "execution_count": null,
   "metadata": {},
   "outputs": [],
   "source": []
  }
 ],
 "metadata": {
  "kernelspec": {
   "display_name": "Python 3",
   "language": "python",
   "name": "python3"
  },
  "language_info": {
   "codemirror_mode": {
    "name": "ipython",
    "version": 3
   },
   "file_extension": ".py",
   "mimetype": "text/x-python",
   "name": "python",
   "nbconvert_exporter": "python",
   "pygments_lexer": "ipython3",
   "version": "3.7.1"
  }
 },
 "nbformat": 4,
 "nbformat_minor": 2
}
