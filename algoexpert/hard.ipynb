{
 "cells": [
  {
   "cell_type": "markdown",
   "metadata": {},
   "source": [
    "## Table of Contents"
   ]
  },
  {
   "cell_type": "markdown",
   "metadata": {},
   "source": [
    "## Find Loop\n",
    "\n",
    "### Description\n",
    "\n",
    "Write a function that takes in the head of a singly-linked list that contains a loop. The function should return the node from which the loop originates in constant space.\n",
    "\n",
    "### Example:\n",
    "\n",
    "N/A\n",
    "\n",
    "### Initial Thoughts\n",
    "\n",
    "Set a slow and fast pointer one and two positions ahead of head. For each iteration, move the slow pointer one position ahead and fast pointer two positions ahead. Eventually, they meet meet at some point in the loop, specifically they will meet at exactly halfway through the loop. Therefore, we reset the slow pointer, and move both the fast and slow pointers one position at a time\n",
    "\n",
    "### Optimal Solution\n"
   ]
  },
  {
   "cell_type": "code",
   "execution_count": null,
   "metadata": {},
   "outputs": [],
   "source": [
    "class LinkedList:\n",
    "    def __init__(self, value):\n",
    "        self.value = value\n",
    "        self.next = None\n",
    "\n",
    "\n",
    "def findLoop(head):\n",
    "    slow = head.next\n",
    "    fast = head.next.next\n",
    "    while slow != fast:\n",
    "        slow = slow.next\n",
    "        fast = fast.next.next\n",
    "    slow = head\n",
    "    while slow != fast:\n",
    "        slow = slow.next\n",
    "        fast = fast.next\n",
    "    return slow"
   ]
  },
  {
   "cell_type": "code",
   "execution_count": null,
   "metadata": {},
   "outputs": [],
   "source": []
  }
 ],
 "metadata": {
  "kernelspec": {
   "display_name": "Python 3",
   "language": "python",
   "name": "python3"
  },
  "language_info": {
   "codemirror_mode": {
    "name": "ipython",
    "version": 3
   },
   "file_extension": ".py",
   "mimetype": "text/x-python",
   "name": "python",
   "nbconvert_exporter": "python",
   "pygments_lexer": "ipython3",
   "version": "3.7.1"
  }
 },
 "nbformat": 4,
 "nbformat_minor": 2
}
