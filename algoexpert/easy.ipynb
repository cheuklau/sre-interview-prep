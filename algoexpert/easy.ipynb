{
 "cells": [
  {
   "cell_type": "markdown",
   "metadata": {},
   "source": [
    "## Table of Contents\n",
    "\n",
    "- [Two Number Sum](#Two-Number-Sum)\n",
    "- [Find Closest Value in BST](#Find-Closest-Value-in-BST)"
   ]
  },
  {
   "cell_type": "markdown",
   "metadata": {},
   "source": [
    "## Two Number Sum\n",
    "\n",
    "### Description\n",
    "\n",
    "Write a function that takes in a non-empty array of distinct integers and an interger representing a target sum. If any two numbers in the array sum up to the target sum, the function should return them in an array, in any order. If no two numbers sum up to the target sum, the function should return an empty array.\n",
    "\n",
    "Considerations:\n",
    "- Target sum has to be obtained by summing two different integers in the array\n",
    "- Assume there will be at most one pair of numbers summing to the target sum\n",
    "\n",
    "### Example:\n",
    "\n",
    "Input:\n",
    "```\n",
    "array = [3, 5, -4, -8, 11, 1, -1, 6]\n",
    "targetSum = 10\n",
    "```\n",
    "\n",
    "Output:\n",
    "```\n",
    "[-1, 11]\n",
    "```\n",
    "\n",
    "### Initial Thoughts\n",
    "\n",
    "We can brute force a solution by comparing every number to every other number until there is a match. However, this will be O(n^2) time. \n",
    "\n",
    "Alternatively, we can loop through the array, storing the difference (targetSum - array[i]) as a dictionary key with the value as array[i]. If we find later elements as a key (O(1) lookup) then we can return the key-value pair. This will be O(n) time and O(n) space.\n",
    "\n",
    "### Optimal Solution\n",
    "\n",
    "We can first sort the array (O(nlogn)) then put a left and right pointer at the leftmost and rightmost elements respectively. We then compare the sum to the targetSum. If the number is less (resp right) than targetSum then we can move the left (resp right) pointer to the right (resp left). This is O(n) which results in O(nlogn) time complexity, O(1) space."
   ]
  },
  {
   "cell_type": "code",
   "execution_count": 1,
   "metadata": {},
   "outputs": [
    {
     "name": "stdout",
     "output_type": "stream",
     "text": [
      "[-1, 11]\n"
     ]
    }
   ],
   "source": [
    "def twoNumberSum(array, targetSum):\n",
    "    \"\"\"\n",
    "    O(n) time, O(n) space using dictionary approach\n",
    "    \"\"\"\n",
    "    result = {}\n",
    "    for num in array:\n",
    "        if num in result:\n",
    "            return [num, result[num]]\n",
    "        else:\n",
    "            result[targetSum-num]=num\n",
    "    return []\n",
    "\n",
    "array = [3, 5, -4, 8, 11, 1, -1, 6]\n",
    "targetSum = 10\n",
    "print(twoNumberSum(array, targetSum))"
   ]
  },
  {
   "cell_type": "code",
   "execution_count": 5,
   "metadata": {},
   "outputs": [
    {
     "name": "stdout",
     "output_type": "stream",
     "text": [
      "[-1, 11]\n"
     ]
    }
   ],
   "source": [
    "def twoNumberSum(array, targetSum):\n",
    "    \"\"\"\n",
    "    O(nlogn) time, O(1) space using sort with pointers approach\n",
    "    \"\"\"\n",
    "    array.sort()\n",
    "    left = 0\n",
    "    right = len(array)-1\n",
    "    while left < right:\n",
    "        tmpSum=array[left]+array[right]\n",
    "        if tmpSum==targetSum:\n",
    "            return[array[left],array[right]]\n",
    "        elif tmpSum<targetSum:\n",
    "            left+=1\n",
    "        elif tmpSum>targetSum:\n",
    "            right-=1\n",
    "    return []\n",
    "\n",
    "array = [3, 5, -4, 8, 11, 1, -1, 6]\n",
    "targetSum = 10\n",
    "print(twoNumberSum(array, targetSum))"
   ]
  },
  {
   "cell_type": "markdown",
   "metadata": {},
   "source": [
    "## Find Closest Value in BST\n",
    "\n",
    "### Description\n",
    "\n",
    "Write a function that takes in a BST and a target integer value and returns the closest value to that target value in the BST.\n",
    "\n",
    "Considerations:\n",
    "- Assume there is only one closest value.\n",
    "- Each `BST` node has an integer `value`, `left` and `right` child nodes.\n",
    "\n",
    "### Example:\n",
    "\n",
    "Input:\n",
    "```\n",
    "{\n",
    "  \"tree\": {\n",
    "    \"nodes\": [\n",
    "      {\"id\": \"10\", \"left\": \"5\", \"right\": \"15\", \"value\": 10},\n",
    "      {\"id\": \"15\", \"left\": \"13\", \"right\": \"22\", \"value\": 15},\n",
    "      {\"id\": \"22\", \"left\": null, \"right\": null, \"value\": 22},\n",
    "      {\"id\": \"13\", \"left\": null, \"right\": \"14\", \"value\": 13},\n",
    "      {\"id\": \"14\", \"left\": null, \"right\": null, \"value\": 14},\n",
    "      {\"id\": \"5\", \"left\": \"2\", \"right\": \"5-2\", \"value\": 5},\n",
    "      {\"id\": \"5-2\", \"left\": null, \"right\": null, \"value\": 5},\n",
    "      {\"id\": \"2\", \"left\": \"1\", \"right\": null, \"value\": 2},\n",
    "      {\"id\": \"1\", \"left\": null, \"right\": null, \"value\": 1}\n",
    "    ],\n",
    "    \"root\": \"10\"\n",
    "  },\n",
    "  \"target\": 12\n",
    "}\n",
    "```\n",
    "\n",
    "Output:\n",
    "```\n",
    "13\n",
    "```\n",
    "\n",
    "### Initial Thoughts\n",
    "\n",
    "Since this is a BST, an in-order traversal (O(n)) should produce a sorted array. Then we can perform a one-pass search through the array for the bounding values and return the value closest to the target. This will be an O(n) in time and space approach.\n",
    "\n",
    "\n",
    "### Optimal Solution\n",
    "\n",
    "We keep track of the closest node value. For each node:\n",
    "- if its value is closer to the target then update the closest node value\n",
    "- if its value is greater than the target, traverse to the left child node\n",
    "- if its value is less than the target, traverse to the right child node\n",
    "- if equal to target then return node value\n",
    "Stop when we reach a leaf node. This will be O(logn) in time since on average we remove half of the tree with each iteration. The worse case scenario is O(n) i.e., a single branch tree. If we are doing this recursively, we will be using O(logn) in space since nodes are put on the call stack. If we do this iteratively, then it will be O(1) in space."
   ]
  },
  {
   "cell_type": "code",
   "execution_count": 12,
   "metadata": {},
   "outputs": [],
   "source": [
    "class BstNode():\n",
    "    def __init__(self,value):\n",
    "        self.value=value\n",
    "        self.left=None\n",
    "        self.right=None\n",
    "root=BstNode(10)\n",
    "node10=BstNode(5)\n",
    "node11=BstNode(15)\n",
    "node20=BstNode(2)\n",
    "node21=BstNode(5)\n",
    "node22=BstNode(13)\n",
    "node23=BstNode(22)\n",
    "node30=BstNode(1)\n",
    "node32=BstNode(14)\n",
    "root.left=node10\n",
    "root.right=node11\n",
    "node10.left=node20\n",
    "node10.right=node21\n",
    "node11.left=node22\n",
    "node11.right=node23\n",
    "node20.left=node30\n",
    "node22.right=node32"
   ]
  },
  {
   "cell_type": "code",
   "execution_count": 17,
   "metadata": {},
   "outputs": [
    {
     "data": {
      "text/plain": [
       "13"
      ]
     },
     "execution_count": 17,
     "metadata": {},
     "output_type": "execute_result"
    }
   ],
   "source": [
    "def findClosestValueInBst(tree, target):\n",
    "    closest=tree.value\n",
    "    current=tree\n",
    "    while current:\n",
    "        if abs(current.value-target)<abs(closest-target):\n",
    "            closest=current.value\n",
    "        if current.value<target:\n",
    "            current=current.right\n",
    "        elif current.value>target:\n",
    "            current=current.left\n",
    "        else:\n",
    "            break\n",
    "    return closest\n",
    "findClosestValueInBst(root,12)"
   ]
  },
  {
   "cell_type": "code",
   "execution_count": 18,
   "metadata": {},
   "outputs": [
    {
     "data": {
      "text/plain": [
       "13"
      ]
     },
     "execution_count": 18,
     "metadata": {},
     "output_type": "execute_result"
    }
   ],
   "source": [
    "def findClosestValueInBst(tree, target):\n",
    "    return findClosestValueInBstHelper(tree,target,tree.value)\n",
    "\n",
    "def findClosestValueInBstHelper(tree,target,closest):\n",
    "    # Base\n",
    "    if not tree:\n",
    "        return closest\n",
    "    # Update\n",
    "    if abs(tree.value-target)<abs(closest-target):\n",
    "        closest=tree.value\n",
    "    # Move to next node\n",
    "    if tree.value<target:\n",
    "        return findClosestValueInBstHelper(tree.right,target,closest)\n",
    "    elif tree.value>target:\n",
    "        return findClosestValueInBstHelper(tree.left,target,closest)\n",
    "    else:\n",
    "        return closest\n",
    "findClosestValueInBst(root,12)"
   ]
  },
  {
   "cell_type": "markdown",
   "metadata": {},
   "source": [
    "## Branch Sums\n",
    "\n",
    "### Description\n",
    "\n",
    "Write a function that takes in a binary tree and returns a list of its branch sums ordered from leftmost to rightmost branch. \n",
    "\n",
    "Considerations:\n",
    "- Each node has an integer `value`, `left` and `right` child nodes.\n",
    "\n",
    "### Example:\n",
    "\n",
    "Input:\n",
    "```\n",
    "{\n",
    "  \"tree\": {\n",
    "    \"nodes\": [\n",
    "      {\"id\": \"1\", \"left\": \"2\", \"right\": \"3\", \"value\": 1},\n",
    "      {\"id\": \"2\", \"left\": \"4\", \"right\": \"5\", \"value\": 2},\n",
    "      {\"id\": \"3\", \"left\": \"6\", \"right\": \"7\", \"value\": 3},\n",
    "      {\"id\": \"4\", \"left\": \"8\", \"right\": \"9\", \"value\": 4},\n",
    "      {\"id\": \"5\", \"left\": \"10\", \"right\": null, \"value\": 5},\n",
    "      {\"id\": \"6\", \"left\": null, \"right\": null, \"value\": 6},\n",
    "      {\"id\": \"7\", \"left\": null, \"right\": null, \"value\": 7},\n",
    "      {\"id\": \"8\", \"left\": null, \"right\": null, \"value\": 8},\n",
    "      {\"id\": \"9\", \"left\": null, \"right\": null, \"value\": 9},\n",
    "      {\"id\": \"10\", \"left\": null, \"right\": null, \"value\": 10}\n",
    "    ],\n",
    "    \"root\": \"1\"\n",
    "  }\n",
    "}\n",
    "```\n",
    "\n",
    "Output:\n",
    "```\n",
    "[15, 16, 18, 10, 11]\n",
    "```\n",
    "\n",
    "### Initial Thoughts\n",
    "\n",
    "If we do an in-order traversal, then we will hit all of the leaf nodes from left to right. During the traversal, we can pass the total sum. Once we hit a leaf node we can and its value to the total sum and append it to the solution list.\n",
    "\n",
    "\n",
    "### Optimal Solution\n",
    "\n",
    "Same as initial thoughts. Note that this is depth-first-search. Time complexity is O(N) since we visit every node. Space complexity of the stack is O(log N). The length of the list is the number of leaf nodes which will never be > N. For a balanced tree, there is approximately N/2 leaf nodes which results in a space complexity of O(N)."
   ]
  },
  {
   "cell_type": "code",
   "execution_count": 27,
   "metadata": {},
   "outputs": [],
   "source": [
    "class BstNode():\n",
    "    def __init__(self,value):\n",
    "        self.value=value\n",
    "        self.left=None\n",
    "        self.right=None\n",
    "root=BstNode(1)\n",
    "node10=BstNode(2)\n",
    "node11=BstNode(3)\n",
    "node20=BstNode(4)\n",
    "node21=BstNode(5)\n",
    "node22=BstNode(6)\n",
    "node23=BstNode(7)\n",
    "node30=BstNode(8)\n",
    "node31=BstNode(9)\n",
    "node32=BstNode(10)\n",
    "root.left=node10\n",
    "root.right=node11\n",
    "node10.left=node20\n",
    "node10.right=node21\n",
    "node11.left=node22\n",
    "node11.right=node23\n",
    "node20.left=node30\n",
    "node20.right=node31\n",
    "node21.left=node32"
   ]
  },
  {
   "cell_type": "code",
   "execution_count": 30,
   "metadata": {},
   "outputs": [
    {
     "data": {
      "text/plain": [
       "[15, 16, 18, 10, 11]"
      ]
     },
     "execution_count": 30,
     "metadata": {},
     "output_type": "execute_result"
    }
   ],
   "source": [
    "def branchSums(root):\n",
    "    solution = []\n",
    "    branchSumsHelper(root,0,solution)\n",
    "    return solution\n",
    "\n",
    "def branchSumsHelper(node,total_sum,solution):\n",
    "    # Base\n",
    "    if not node.left and not node.right:\n",
    "        return solution.append(total_sum+node.value)\n",
    "    total_sum += node.value\n",
    "    if node.left:\n",
    "        branchSumsHelper(node.left,total_sum,solution)\n",
    "    if node.right:\n",
    "        branchSumsHelper(node.right,total_sum,solution)\n",
    "    return solution\n",
    "\n",
    "branchSums(root)"
   ]
  },
  {
   "cell_type": "markdown",
   "metadata": {},
   "source": [
    "## Depth-First Search\n",
    "\n",
    "### Description\n",
    "\n",
    "Given a `Node` class with a `name` and an optional `children` nodes. Implement depth-first search on the `Node` class which takes in an empty array, traverses the tree using DFS, stores all the node's names in the input array and returns it.\n",
    "\n",
    "\n",
    "### Example:\n",
    "\n",
    "Input:\n",
    "```\n",
    "{\n",
    "  \"graph\": {\n",
    "    \"nodes\": [\n",
    "      {\"children\": [\"B\", \"C\", \"D\"], \"id\": \"A\", \"value\": \"A\"},\n",
    "      {\"children\": [\"E\", \"F\"], \"id\": \"B\", \"value\": \"B\"},\n",
    "      {\"children\": [], \"id\": \"C\", \"value\": \"C\"},\n",
    "      {\"children\": [\"G\", \"H\"], \"id\": \"D\", \"value\": \"D\"},\n",
    "      {\"children\": [], \"id\": \"E\", \"value\": \"E\"},\n",
    "      {\"children\": [\"I\", \"J\"], \"id\": \"F\", \"value\": \"F\"},\n",
    "      {\"children\": [\"K\"], \"id\": \"G\", \"value\": \"G\"},\n",
    "      {\"children\": [], \"id\": \"H\", \"value\": \"H\"},\n",
    "      {\"children\": [], \"id\": \"I\", \"value\": \"I\"},\n",
    "      {\"children\": [], \"id\": \"J\", \"value\": \"J\"},\n",
    "      {\"children\": [], \"id\": \"K\", \"value\": \"K\"}\n",
    "    ],\n",
    "    \"startNode\": \"A\"\n",
    "  }\n",
    "}\n",
    "```\n",
    "\n",
    "Output:\n",
    "```\n",
    "[A, B, E, F, I, J, C, D, G, K, H]\n",
    "```\n",
    "\n",
    "### Initial Thoughts\n",
    "\n",
    "In the iterative approach, we start with the root node then push it onto the stack:\n",
    "\n",
    "stack = [A]\n",
    "\n",
    "Pop the node, append it to the solution array then push its children onto the stack:\n",
    "\n",
    "stack = [D C B] solution = [A]\n",
    "\n",
    "We repeat this until the stack is empty:\n",
    "\n",
    "stack = [D C F E] solution = [A B]\n",
    "\n",
    "stack = [D C F] solution = [A B E]\n",
    "\n",
    "stack = [D C J I] solution = [A B E F]\n",
    "\n",
    "stack = [D C J] solution = [A B E F I]\n",
    "\n",
    "stack = [D C] solution = [A B E F I J]\n",
    "\n",
    "stack = [D] solution = [A B E F I J C]\n",
    "\n",
    "stack = [H G] solution = [A B E F I J C D]\n",
    "\n",
    "stack = [H K] solution = [A B E F I J C D G]\n",
    "\n",
    "stack = [H] solution = [A B E F I J C D G K]\n",
    "\n",
    "stack = [] solution = [A B E F I J C D G K H]\n",
    "\n",
    "Stack is empty, we are done.\n",
    "\n",
    "\n",
    "### Optimal Solution\n",
    "\n",
    "Same as initial thoughts. We have to visit every node and edge so time complexity is O(V+E) where V is the number of vertices and E is the number of edges. The space complexity is O(V)."
   ]
  },
  {
   "cell_type": "code",
   "execution_count": 32,
   "metadata": {},
   "outputs": [
    {
     "data": {
      "text/plain": [
       "['A', 'B', 'E', 'F', 'I', 'J', 'C', 'D', 'G', 'K', 'H']"
      ]
     },
     "execution_count": 32,
     "metadata": {},
     "output_type": "execute_result"
    }
   ],
   "source": [
    "class Node:\n",
    "    def __init__(self, name):\n",
    "        self.children = []\n",
    "        self.name = name\n",
    "\n",
    "    def addChild(self, name):\n",
    "        self.children.append(Node(name))\n",
    "        return self\n",
    "\n",
    "    def depthFirstSearch(self, array):\n",
    "        stack=[]\n",
    "        stack.append(self)\n",
    "        while stack:\n",
    "            current=stack.pop()\n",
    "            array.append(current.name)\n",
    "            for child in reversed(current.children):\n",
    "                stack.append(child)\n",
    "        return array\n",
    "\n",
    "A=Node(\"A\")\n",
    "B=Node(\"B\")\n",
    "C=Node(\"C\")\n",
    "D=Node(\"D\")\n",
    "E=Node(\"E\")\n",
    "F=Node(\"F\")\n",
    "G=Node(\"G\")\n",
    "H=Node(\"H\")\n",
    "I=Node(\"I\")\n",
    "J=Node(\"J\")\n",
    "K=Node(\"K\")\n",
    "A.children=[B,C,D]\n",
    "B.children=[E,F]\n",
    "F.children=[I,J]\n",
    "D.children=[G,H]\n",
    "G.children=[K]\n",
    "result = []\n",
    "A.depthFirstSearch(result)"
   ]
  },
  {
   "cell_type": "markdown",
   "metadata": {},
   "source": [
    "## Nth Fibonacci\n",
    "\n",
    "### Description\n",
    "\n",
    "First number is `0`, then `1`, and the nth number is the sum of `(n-1)` and `(n-2)` numbers. Write a function that takes in integer `n` and returns the nth Fibonacci number.\n",
    "\n",
    "Considerations:\n",
    "\n",
    "The first Fibonacci number is indexed as `1`.\n",
    "\n",
    "\n",
    "### Example:\n",
    "\n",
    "Input:\n",
    "```\n",
    "2\n",
    "```\n",
    "\n",
    "Output:\n",
    "```\n",
    "1\n",
    "```\n",
    "\n",
    "### Initial Thoughts\n",
    "\n",
    "The first two Fibonacci numbers are hard-coded then the rest of the Fibonacci numbers can be calculated by recursively summing `fib(n-1)` and `fib(n-2)`. The time complexity is O(2^n) because each of the recursive layer we are increasing the number of operations by two. The space complexity is O(n) for the call stack depth.\n",
    "\n",
    "\n",
    "### Optimal Solution\n",
    "\n",
    "The initial thoughts algorithm has a terrible time complexity because we are repeating many calculations. Instead we want to use memoization to cache our calculations. This will be O(n) time complexity. Space complexity is still O(n) since the call stack remains the same and we have the new hash table. We can also use an iterative method and just update the two previous numbers. This is also O(n) in time, but O(1) space."
   ]
  },
  {
   "cell_type": "code",
   "execution_count": 39,
   "metadata": {},
   "outputs": [
    {
     "data": {
      "text/plain": [
       "5"
      ]
     },
     "execution_count": 39,
     "metadata": {},
     "output_type": "execute_result"
    }
   ],
   "source": [
    "def getNthFib(n):\n",
    "    return getNthFibHelper(n)\n",
    "\n",
    "def getNthFibHelper(n):\n",
    "    if n == 1:\n",
    "        return 0\n",
    "    elif n == 2:\n",
    "        return 1\n",
    "    else:\n",
    "        return getNthFibHelper(n-1)+getNthFibHelper(n-2)\n",
    "\n",
    "getNthFib(6)"
   ]
  },
  {
   "cell_type": "code",
   "execution_count": 40,
   "metadata": {},
   "outputs": [
    {
     "data": {
      "text/plain": [
       "5"
      ]
     },
     "execution_count": 40,
     "metadata": {},
     "output_type": "execute_result"
    }
   ],
   "source": [
    "def getNthFib(n):\n",
    "    memoized = {1:0,2:1}\n",
    "    return getNthFibHelper(n, memoized)\n",
    "\n",
    "def getNthFibHelper(n, memoized):\n",
    "    if n in memoized:\n",
    "        return memoized[n]\n",
    "    else:\n",
    "        memoized[n]=getNthFibHelper(n-1,memoized)+getNthFibHelper(n-2,memoized)\n",
    "        return memoized[n]\n",
    "\n",
    "getNthFib(6)"
   ]
  },
  {
   "cell_type": "code",
   "execution_count": 44,
   "metadata": {},
   "outputs": [
    {
     "data": {
      "text/plain": [
       "5"
      ]
     },
     "execution_count": 44,
     "metadata": {},
     "output_type": "execute_result"
    }
   ],
   "source": [
    "def getNthFib(n):\n",
    "    last = [0,1]\n",
    "    counter = 3\n",
    "    while counter <= n:\n",
    "        next_num = sum(last)\n",
    "        last[0] = last[1]\n",
    "        last[1] = next_num\n",
    "        counter += 1\n",
    "    return next_num\n",
    "\n",
    "getNthFib(6)"
   ]
  },
  {
   "cell_type": "markdown",
   "metadata": {},
   "source": [
    "## Product Sum\n",
    "\n",
    "### Description\n",
    "\n",
    "Write a function that takes in a \"special\" array and returns its product sum. A special array is a non-empty array with integers or other special arrays. The product sum of a special array is the sum of its elements where special arrays inside it are summed themselves then multiplied by their level of depth.\n",
    "\n",
    "For example, `[x,[y,z]]=x+2y+2z`.\n",
    "\n",
    "\n",
    "### Example:\n",
    "\n",
    "Input:\n",
    "```\n",
    "[5,2,[7,-1],3,[6,[-13,8],4]]\n",
    "```\n",
    "\n",
    "Output:\n",
    "```\n",
    "12\n",
    "```\n",
    "\n",
    "### Initial Thoughts\n",
    "\n",
    "We loop through the array keeping track of the total sum and current level. We add each integer multiplied by its level to the total sum, and store the elements of nested lists into the array for the next level. This is repeated until the array for the next level is empty.\n",
    "\n",
    "\n",
    "### Optimal Solution\n",
    "\n",
    "This problem should be approached recursively. We should pass in subarrays into othe recursive function with the incremented level. The time complexity is O(N) where N is the number of integers and n"
   ]
  },
  {
   "cell_type": "code",
   "execution_count": 47,
   "metadata": {},
   "outputs": [
    {
     "data": {
      "text/plain": [
       "12"
      ]
     },
     "execution_count": 47,
     "metadata": {},
     "output_type": "execute_result"
    }
   ],
   "source": [
    "def productSum(array):\n",
    "    return productSumHelper(array,1)\n",
    "\n",
    "def productSumHelper(array,level):\n",
    "    total=0\n",
    "    for ele in array:\n",
    "        if type(ele) == int:\n",
    "            total += level*ele\n",
    "        else:\n",
    "            total += level*productSumHelper(ele,level+1)\n",
    "    return total\n",
    "\n",
    "productSum([5,2,[7,-1],3,[6,[-13,8],4]])"
   ]
  },
  {
   "cell_type": "code",
   "execution_count": null,
   "metadata": {},
   "outputs": [],
   "source": []
  }
 ],
 "metadata": {
  "kernelspec": {
   "display_name": "Python 3",
   "language": "python",
   "name": "python3"
  },
  "language_info": {
   "codemirror_mode": {
    "name": "ipython",
    "version": 3
   },
   "file_extension": ".py",
   "mimetype": "text/x-python",
   "name": "python",
   "nbconvert_exporter": "python",
   "pygments_lexer": "ipython3",
   "version": "3.7.1"
  }
 },
 "nbformat": 4,
 "nbformat_minor": 2
}
