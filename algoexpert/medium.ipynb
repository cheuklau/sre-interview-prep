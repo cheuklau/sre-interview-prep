{
 "cells": [
  {
   "cell_type": "markdown",
   "metadata": {},
   "source": [
    "## Table of Contents\n",
    "\n",
    "- [Three Number Sum](#Three-Number-Sum)\n",
    "- [Smallest Difference](#Smallest-Difference)"
   ]
  },
  {
   "cell_type": "markdown",
   "metadata": {},
   "source": [
    "## Three Number Sum\n",
    "\n",
    "### Description\n",
    "\n",
    "Write a function that takes in a non-empty array of distinct integers and an integer representing a target sum. Function should find all triplets in the array that sum up to the target sum and return a two-dimensional array of those triplets. Numbers in each triplet should be ordered in ascending order, and triplets should be ordered with respect to the numbers they hold.\n",
    "\n",
    "### Example:\n",
    "\n",
    "Input:\n",
    "```\n",
    "[12, 3, 1, 2, -6, 5, -8, 6], 0\n",
    "```\n",
    "\n",
    "Output:\n",
    "```\n",
    "[[-8, 2, 6], [-8, 3, 5], [-6, 1, 5]]\n",
    "```\n",
    "\n",
    "### Initial Thoughts\n",
    "\n",
    "Brute force using three for-loops would work but is O(n^3) in time. We could also store all of the integers into a hash table then use a double for-loop with a hash table lookup. This would be O(n^2) in time but require O(n) space. It would also require a bit of work to ensure there are no repeat triplets. \n",
    "\n",
    "### Optimal Solution\n",
    "\n",
    "First sort the array. Iterate through the array once. For each digit, set a left pointer directly right of the integer and a right pointer at the end of the array. We calculate the current sum and if the result is less (resp. greater) than the target sum, we move the left (resp. right) pointer to the right (resp. left). We repeat this until left and right pointers meet. The time complexity is O(n^2), and space complexity is O(n) to store the results."
   ]
  },
  {
   "cell_type": "code",
   "execution_count": 1,
   "metadata": {},
   "outputs": [
    {
     "data": {
      "text/plain": [
       "[[-8, 2, 6], [-8, 3, 5], [-6, 1, 5]]"
      ]
     },
     "execution_count": 1,
     "metadata": {},
     "output_type": "execute_result"
    }
   ],
   "source": [
    "def threeNumberSum(array, targetSum):\n",
    "    array.sort()\n",
    "    solution=[]\n",
    "    for idx, num in enumerate(array[:-2]):\n",
    "        left=idx+1\n",
    "        right=len(array)-1\n",
    "        while left<right:\n",
    "            current=num+array[left]+array[right]\n",
    "            if current==targetSum:\n",
    "                solution.append([num,array[left],array[right]])\n",
    "                left+=1\n",
    "                right-=1\n",
    "            elif current<targetSum:\n",
    "                left+=1\n",
    "            elif current>targetSum:\n",
    "                right-=1\n",
    "    return solution\n",
    "\n",
    "threeNumberSum([12, 3, 1, 2, -6, 5, -8, 6], 0)"
   ]
  },
  {
   "cell_type": "markdown",
   "metadata": {},
   "source": [
    "## Smallest Difference\n",
    "\n",
    "### Description\n",
    "\n",
    "Write a function that takes in two non-empty array of integers, finds the pair of numbers (one in each array) whose absolute difference is closest to zero. Return an array containing those two numbers with the first element from the first array. Assume there is only one pair of numbers with the smallest difference.\n",
    "\n",
    "### Example:\n",
    "\n",
    "Input:\n",
    "```\n",
    "[-1, 5, 10, 20, 28, 3], [26, 134, 135, 15, 17]\n",
    "```\n",
    "\n",
    "Output:\n",
    "```\n",
    "[28, 26]\n",
    "```\n",
    "\n",
    "### Initial Thoughts\n",
    "\n",
    "Sort both arrays in ascending order. Let X be from first array, Y be from second array. If X = Y then we found a solution. If X < Y then we want to increase X index or decrease Y index. Likewise if X < Y then we want to decrease X index or increase Y index. We can start with pointers at the beginning of each array and apply the above logic moving indices strictly to the right, keeping track of the lowest difference pair. The time complexity if O(NlogN+MlogM), and O(1) space.\n",
    "\n",
    "### Optimal Solution\n",
    "\n",
    "Same as initial thoughts."
   ]
  },
  {
   "cell_type": "code",
   "execution_count": 2,
   "metadata": {},
   "outputs": [
    {
     "data": {
      "text/plain": [
       "[28, 26]"
      ]
     },
     "execution_count": 2,
     "metadata": {},
     "output_type": "execute_result"
    }
   ],
   "source": [
    "def smallestDifference(arrayOne, arrayTwo):\n",
    "    arrayOne.sort()\n",
    "    arrayTwo.sort()\n",
    "    idxOne,idxTwo = 0,0\n",
    "    smallestDiff=float(\"inf\")\n",
    "    while idxOne<len(arrayOne) and idxTwo<len(arrayTwo):\n",
    "        currentDiff=abs(arrayOne[idxOne]-arrayTwo[idxTwo])\n",
    "        if currentDiff==0:\n",
    "            return[arrayOne[idxOne],arrayTwo[idxTwo]]\n",
    "        elif currentDiff<smallestDiff:\n",
    "            smallestDiff=currentDiff\n",
    "            solution=[arrayOne[idxOne],arrayTwo[idxTwo]]\n",
    "        if arrayOne[idxOne]<arrayTwo[idxTwo]:\n",
    "            idxOne+=1\n",
    "        elif arrayOne[idxOne]>arrayTwo[idxTwo]:\n",
    "            idxTwo+=1\n",
    "    return solution\n",
    "\n",
    "smallestDifference([-1, 5, 10, 20, 28, 3],[26, 134, 135, 15, 17])"
   ]
  },
  {
   "cell_type": "markdown",
   "metadata": {},
   "source": [
    "## Move Element to End\n",
    "\n",
    "### Description\n",
    "\n",
    "Given an array of integers and an integer. Write a function that moves all instances of that integer to the end of the array, and returns the array. Perform this in place.\n",
    "\n",
    "### Example:\n",
    "\n",
    "Input:\n",
    "```\n",
    "[2,1,2,2,2,3,4,2],2\n",
    "```\n",
    "\n",
    "Output:\n",
    "```\n",
    "[1,3,4,2,2,2,2,2]\n",
    "```\n",
    "\n",
    "### Initial Thoughts\n",
    "\n",
    "Start with a pointer at the beginning and at the end of the array. While the pointers are not crossed, we swap the elements at the left and right pointers if the right pointer is not pointing to the target value and the left pointer is pointing to the target value. The time complexity is O(n) and the space complexity is O(1).\n",
    "\n",
    "### Optimal Solution\n",
    "\n",
    "Same as initial thoughts."
   ]
  },
  {
   "cell_type": "code",
   "execution_count": 3,
   "metadata": {},
   "outputs": [
    {
     "data": {
      "text/plain": [
       "[4, 1, 3, 2, 2, 2, 2, 2]"
      ]
     },
     "execution_count": 3,
     "metadata": {},
     "output_type": "execute_result"
    }
   ],
   "source": [
    "def moveElementToEnd(array, toMove):\n",
    "    idx_l=0\n",
    "    idx_r=len(array)-1\n",
    "    while idx_l<idx_r:\n",
    "        while idx_l<idx_r and array[idx_r]==toMove:\n",
    "            idx_r-=1\n",
    "        if array[idx_l]==toMove:\n",
    "            array[idx_l],array[idx_r]=array[idx_r],array[idx_l]\n",
    "        idx_l+=1\n",
    "    return array\n",
    "\n",
    "moveElementToEnd([2,1,2,2,2,3,4,2],2)"
   ]
  },
  {
   "cell_type": "markdown",
   "metadata": {},
   "source": [
    "## Monotonic Array\n",
    "\n",
    "### Description\n",
    "\n",
    "Write a function that takes in an array of integers and return a boolean representing whether the array is monotonic.\n",
    "\n",
    "### Example:\n",
    "\n",
    "Input:\n",
    "```\n",
    "[-1, -5, -1, -1100, -1100, -1101, -1102, -9001]\n",
    "```\n",
    "\n",
    "Output:\n",
    "```\n",
    "true\n",
    "```\n",
    "\n",
    "### Initial Thoughts\n",
    "\n",
    "Iterate through the array and categorize the first change as either ascending or descending. If the next delta is not in the same direction then return False. Return True if we get through the rest of the array. The time complexity is O(n), and the space complexity is O(1).\n",
    "\n",
    "### Optimal Solution\n",
    "\n",
    "Same as initial thoughts."
   ]
  },
  {
   "cell_type": "code",
   "execution_count": 8,
   "metadata": {},
   "outputs": [
    {
     "data": {
      "text/plain": [
       "True"
      ]
     },
     "execution_count": 8,
     "metadata": {},
     "output_type": "execute_result"
    }
   ],
   "source": [
    "def isMonotonic(array):\n",
    "    state=None\n",
    "    for idx in range(1,len(array)):\n",
    "        if array[idx]==array[idx-1]:\n",
    "            continue\n",
    "        elif array[idx]<array[idx-1]:\n",
    "            if not state:\n",
    "                state=\"descend\"\n",
    "            elif state==\"ascend\":\n",
    "                return False\n",
    "        elif array[idx]>array[idx-1]:\n",
    "            if not state:\n",
    "                state=\"ascend\"\n",
    "            elif state==\"descend\":\n",
    "                return False\n",
    "    return True\n",
    "\n",
    "isMonotonic([-1, -5, -10, -1100, -1100, -1101, -1102, -9001])"
   ]
  },
  {
   "cell_type": "code",
   "execution_count": null,
   "metadata": {},
   "outputs": [],
   "source": []
  }
 ],
 "metadata": {
  "kernelspec": {
   "display_name": "Python 3",
   "language": "python",
   "name": "python3"
  },
  "language_info": {
   "codemirror_mode": {
    "name": "ipython",
    "version": 3
   },
   "file_extension": ".py",
   "mimetype": "text/x-python",
   "name": "python",
   "nbconvert_exporter": "python",
   "pygments_lexer": "ipython3",
   "version": "3.7.1"
  }
 },
 "nbformat": 4,
 "nbformat_minor": 2
}
