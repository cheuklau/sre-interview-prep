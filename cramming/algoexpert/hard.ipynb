{
 "cells": [
  {
   "cell_type": "markdown",
   "metadata": {},
   "source": [
    "## Table of Contents"
   ]
  },
  {
   "cell_type": "markdown",
   "metadata": {},
   "source": [
    "## Find Loop\n",
    "\n",
    "### Description\n",
    "\n",
    "Write a function that takes in the head of a singly-linked list that contains a loop. The function should return the node from which the loop originates in constant space.\n",
    "\n",
    "### Example:\n",
    "\n",
    "N/A\n",
    "\n",
    "### Initial Thoughts\n",
    "\n",
    "Set a slow and fast pointer one and two positions ahead of head. For each iteration, move the slow pointer one position ahead and fast pointer two positions ahead. Eventually, they meet meet at some point in the loop, specifically they will meet at the point where the distance before the loop is equal to the distance remaining to complete the loop. Therefore, we reset the slow pointer, and move both the fast and slow pointers one position at a time until they meet. The time complexity is O(n) and the space complexity is O(1).\n",
    "\n",
    "### Optimal Solution\n",
    "\n",
    "Same as initial thoughts."
   ]
  },
  {
   "cell_type": "code",
   "execution_count": 1,
   "metadata": {},
   "outputs": [],
   "source": [
    "class LinkedList:\n",
    "    def __init__(self, value):\n",
    "        self.value = value\n",
    "        self.next = None\n",
    "\n",
    "\n",
    "def findLoop(head):\n",
    "    slow = head.next\n",
    "    fast = head.next.next\n",
    "    while slow != fast:\n",
    "        slow = slow.next\n",
    "        fast = fast.next.next\n",
    "    slow = head\n",
    "    while slow != fast:\n",
    "        slow = slow.next\n",
    "        fast = fast.next\n",
    "    return slow"
   ]
  },
  {
   "cell_type": "markdown",
   "metadata": {},
   "source": [
    "## Reverse Linked List\n",
    "\n",
    "### Description\n",
    "\n",
    "Write a function that takes in the head oof a singly linked list, reverse the node in place and returns its new head.\n",
    "\n",
    "### Example:\n",
    "\n",
    "N/A\n",
    "\n",
    "### Initial Thoughts\n",
    "\n",
    "This is a classic linked list problem. The idea is to use three pointers initially occupying the first three nodes. We point the next of the second node to the first node and then move all three nodes forward. We continue until the second poionter is null. The time complexity is O(n) where n is the number of nodes and space complexity is O(1).\n",
    "\n",
    "### Optimal Solution\n",
    "\n",
    "Same as initial thoughts."
   ]
  },
  {
   "cell_type": "code",
   "execution_count": 1,
   "metadata": {},
   "outputs": [],
   "source": [
    "def reverseLinkedList(head):\n",
    "    p1 = None\n",
    "    p2 = head\n",
    "    while p2 is not None:\n",
    "        p3 = p2.next\n",
    "        p2.next = p1\n",
    "        p1 = p2\n",
    "        p2 = p3\n",
    "    return p1"
   ]
  },
  {
   "cell_type": "markdown",
   "metadata": {},
   "source": [
    "## Subarray Sort\n",
    "\n",
    "### Description\n",
    "\n",
    "Write a function that takes in an array of at least two integers and returns an array of the starting and ending indices of the smallest subarray in the input array that needs to be sorted in order for the entire input array to be sorted in ascending order.\n",
    "\n",
    "### Example:\n",
    "\n",
    "```\n",
    "Input: [1, 2, 4, 7, 10, 11, 7, 12, 6, 7, 16, 18, 19]\n",
    "\n",
    "Output: [3, 9]\n",
    "```\n",
    "\n",
    "\n",
    "### Initial Thoughts\n",
    "\n",
    "Iterate through the array and when we come across a number that is out of order (by comparing to its surrounding numbers), we determine if it is smaller than the running min or larger than the running max of numbers that are out of order. For the smallest number, we start from the left to determine its final index, and for the largest number, we start from the right to deternine its final index. Finally, we return those two indices. Time complexity is O(n) and space complexity is O(1).\n",
    "\n",
    "### Optimal Solution\n",
    "\n",
    "Same as initial thoughts."
   ]
  },
  {
   "cell_type": "code",
   "execution_count": 1,
   "metadata": {},
   "outputs": [
    {
     "data": {
      "text/plain": [
       "[3, 9]"
      ]
     },
     "execution_count": 1,
     "metadata": {},
     "output_type": "execute_result"
    }
   ],
   "source": [
    "def subarraySort(array):\n",
    "    # Initialize min and max out-of-orders\n",
    "    min_ooo, max_ooo = float(\"inf\"), float(\"-inf\")\n",
    "    for idx, num in enumerate(array):\n",
    "        # Handle first index\n",
    "        if idx == 0:\n",
    "            # Set min and max to first element\n",
    "            if num > array[idx + 1]:\n",
    "                min_ooo, max_ooo = num, num\n",
    "            continue\n",
    "        # Handle last index\n",
    "        if idx == len(array) - 1:\n",
    "            if num < array[idx - 1]:\n",
    "                if num < min_ooo:\n",
    "                    min_ooo = num\n",
    "                if num > max_ooo:\n",
    "                    max_ooo = num\n",
    "            continue\n",
    "        # ... and everything in between\n",
    "        if num < array[idx - 1] or num > array[idx + 1]:\n",
    "            if num < min_ooo:\n",
    "                min_ooo = num\n",
    "            if num > max_ooo:\n",
    "                max_ooo = num\n",
    "    # Check for case where array is fully sorted\n",
    "    if min_ooo == float(\"inf\"):\n",
    "        return [-1, -1]\n",
    "    # Find the indices to return\n",
    "    solution = []\n",
    "    for idx, num in enumerate(array):\n",
    "        if min_ooo < num:\n",
    "            solution.append(idx)\n",
    "            break\n",
    "    for idx, num in enumerate(reversed(array)):\n",
    "        if max_ooo > num:\n",
    "            solution.append(len(array) - 1 - idx)\n",
    "            return solution\n",
    "\n",
    "subarraySort([1, 2, 4, 7, 10, 11, 7, 12, 6, 7, 16, 18, 19])"
   ]
  },
  {
   "cell_type": "markdown",
   "metadata": {},
   "source": [
    "## Max Sum Increasing Subsequence\n",
    "\n",
    "### Description\n",
    "\n",
    "Write a function that takes in a non-empty array of integers and returns the greatest sum that can be generated from a strictly-increasing subsequence in the array as well as an array of the numbers in the subsequence. \n",
    "\n",
    "### Example:\n",
    "\n",
    "```\n",
    "Input: [10, 70, 20, 30, 50, 11, 30]\n",
    "\n",
    "Output: [110, [10, 20, 30, 50]]\n",
    "```\n",
    "\n",
    "\n",
    "### Initial Thoughts\n",
    "\n",
    "Build up another array where at each index we store the greatest sum that can be achieved at that index. We build a second array to store the index of the element that make up that greatest sum. At each number we check from the beginning of the array and find the index with the maximum value corresponding to a number that is less than the current number. The time complexity is O(n^2) and the space complexity is O(n).\n",
    "\n",
    "### Optimal Solution\n",
    "\n",
    "Same as initial thoughts."
   ]
  },
  {
   "cell_type": "code",
   "execution_count": 8,
   "metadata": {},
   "outputs": [
    {
     "name": "stdout",
     "output_type": "stream",
     "text": [
      "[10, 80, 30, 60, 110, 21, 60]\n",
      "[None, 0, 0, 2, 3, 0, 2]\n"
     ]
    },
    {
     "data": {
      "text/plain": [
       "[110, [10, 20, 30, 50]]"
      ]
     },
     "execution_count": 8,
     "metadata": {},
     "output_type": "execute_result"
    }
   ],
   "source": [
    "def maxSumIncreasingSubsequence(array):\n",
    "    # Initialize max sums and previous index arrays\n",
    "    maxSums = [num for num in array]\n",
    "    idxPrevs = [None] * len(array)\n",
    "    for i, num in enumerate(array):\n",
    "        # First element\n",
    "        if i == 0:\n",
    "            maxSums[i] = num\n",
    "            continue\n",
    "        # Check previous numbers\n",
    "        # See if they are less than current number\n",
    "        # If they are then we see if their sum with current number \n",
    "        # is greater than the max\n",
    "        for j, maxSum in enumerate(maxSums[:i]):\n",
    "            if array[j] < num and maxSum + num > maxSums[i]:\n",
    "                maxSums[i] = maxSum + num\n",
    "                idxPrevs[i] = j\n",
    "    print(maxSums)\n",
    "    print(idxPrevs)\n",
    "    # We iterate through maxSums and find the max\n",
    "    maxTot = float(\"-inf\")\n",
    "    for idx, maxSum in enumerate(maxSums):\n",
    "        if maxSum > maxTot:\n",
    "            maxTot = maxSum\n",
    "            maxIdx = idx\n",
    "    \n",
    "    # Now we have to find all values by working backwords\n",
    "    idxs = []\n",
    "    while maxIdx != None:\n",
    "        idxs.append(array[maxIdx])\t\n",
    "        maxIdx = idxPrevs[maxIdx]\n",
    "    idxs.sort()\n",
    "    return [maxTot, idxs]\n",
    "\n",
    "maxSumIncreasingSubsequence([10, 70, 20, 30, 50, 11, 30])"
   ]
  },
  {
   "cell_type": "markdown",
   "metadata": {},
   "source": [
    "## Longest Substring Without Duplication\n",
    "\n",
    "### Description\n",
    "\n",
    "Write a function that takes in a string and returns its longest substring without duplicate characters. Assume there is only one substring without duplication.\n",
    "\n",
    "### Example:\n",
    "\n",
    "```\n",
    "Input: clementisacap\n",
    "\n",
    "Output: mentisac\n",
    "```\n",
    "\n",
    "### Initial Thoughts\n",
    "\n",
    "We iterate through the string, and for each letter we add it to a hash table where the key is the letter and the value is its index. We initialize the start index at 0, and keep track of the longest running stubstring. If we reach a letter that has already been seen then we set the start index as the max of its current value and the last seen character index plus one. The time complexity is O(n) and the space complexity is O(n).\n",
    "\n",
    "### Optimal Solution\n",
    "\n",
    "Same as initial thoughts."
   ]
  },
  {
   "cell_type": "code",
   "execution_count": 9,
   "metadata": {},
   "outputs": [
    {
     "data": {
      "text/plain": [
       "'mentisac'"
      ]
     },
     "execution_count": 9,
     "metadata": {},
     "output_type": "execute_result"
    }
   ],
   "source": [
    "def longestSubstringWithoutDuplication(string):\n",
    "    startIdx = 0\n",
    "    lastSeen = {}\n",
    "    longestSubString = \"\"\n",
    "    for idx, letter in enumerate(string):\n",
    "        if letter not in lastSeen:\n",
    "            lastSeen[letter] = idx\n",
    "        else:\n",
    "            startIdx = max(startIdx, lastSeen[letter] + 1)\n",
    "            lastSeen[letter] = idx\n",
    "        if idx - startIdx + 1 > len(longestSubString):\n",
    "            longestSubString = string[startIdx : idx + 1]\n",
    "    return longestSubString\n",
    "\n",
    "longestSubstringWithoutDuplication(\"clementisacap\")"
   ]
  },
  {
   "cell_type": "markdown",
   "metadata": {},
   "source": [
    "## Largest Range\n",
    "\n",
    "### Description\n",
    "\n",
    "Write a function that takes in an array and outputs the largest range in the array.\n",
    "\n",
    "### Example:\n",
    "\n",
    "```\n",
    "Input: [1, 11, 3, 0, 15, 5, 2, 4, 10, 7, 12, 6]\n",
    "\n",
    "Output: [0, 7]\n",
    "```\n",
    "\n",
    "### Initial Thoughts\n",
    "\n",
    "We could sort the array and iterate through to find the largest range. This will be O(nlogn) time, and O(1) space. Alternatively, we could use a library with the keys being the numbers in the array. We then iterate through the array and find its max array based on the keys in the hash table. Once a number is explored we mark it as so in the hash table. We do not explore numbers that are marked as explored. This is O(n) in time and O(n) in space.\n",
    "\n",
    "### Optimal Solution\n",
    "\n",
    "Same as initial thoughts."
   ]
  },
  {
   "cell_type": "code",
   "execution_count": 13,
   "metadata": {},
   "outputs": [
    {
     "data": {
      "text/plain": [
       "[3, 4]"
      ]
     },
     "execution_count": 13,
     "metadata": {},
     "output_type": "execute_result"
    }
   ],
   "source": [
    "def largestRange(array):\n",
    "    # Create hash table\n",
    "    explored = {}\n",
    "    for num in array:\n",
    "        explored[num] = False\n",
    "    longestRange = []\n",
    "    for num in array:\n",
    "        currentRange = []\n",
    "        if not explored[num]:\n",
    "            currentRange = [num]\n",
    "            # First go to the left of number\n",
    "            current = num\n",
    "            while True:\n",
    "                current -= 1\n",
    "                if current in explored:\n",
    "                    currentRange.append(current)\n",
    "                    explored[current] = True\n",
    "                else:\n",
    "                    break\n",
    "            # Then go to the right of number\n",
    "            current = num\n",
    "            while True:\n",
    "                current += 1\n",
    "                if current in explored:\n",
    "                    currentRange.append(current)\n",
    "                    explored[current] = True\n",
    "                else:\n",
    "                    break\n",
    "            if len(currentRange) > len(longestRange):\n",
    "                longestRange = currentRange\n",
    "        \n",
    "    solution = [min(longestRange), max(longestRange)]\n",
    "    return solution\n",
    "    \n",
    "largestRange([1, 1, 1, 3, 4])"
   ]
  },
  {
   "cell_type": "markdown",
   "metadata": {},
   "source": [
    "## Four Number Sum\n",
    "\n",
    "### Description\n",
    "\n",
    "Write a function that takes in a non-empty array of distinct integers and an integer representing a target sum. Function should find all quadruplets in the array that sum to the target sum, adn return a 2D dimensional array of all these quadrulpets in no particular order.\n",
    "\n",
    "### Example:\n",
    "\n",
    "```\n",
    "Input: [7,6,4,-1,1,2], 16\n",
    "\n",
    "Output: [[7,6,4,-1],[7,6,1,2]]\n",
    "```\n",
    "\n",
    "### Initial Thoughts\n",
    "\n",
    "This is the same strategy as the three-sum problem (medium difficulty). The difference here is we have an additional inner iteration for the additional number. This results in O(n^2) time complexity and O(n^2) space average.\n",
    "\n",
    "### Optimal Solution\n",
    "\n",
    "Same as initial thoughts."
   ]
  },
  {
   "cell_type": "code",
   "execution_count": 46,
   "metadata": {},
   "outputs": [
    {
     "data": {
      "text/plain": [
       "[[-1, 4, 6, 7], [1, 2, 6, 7]]"
      ]
     },
     "execution_count": 46,
     "metadata": {},
     "output_type": "execute_result"
    }
   ],
   "source": [
    "def fourNumberSum(array, targetSum):\n",
    "    array.sort()\n",
    "    solution = []\n",
    "    for idx1, num1 in enumerate(array[:-3]):\n",
    "        for idx2, num2 in enumerate(array[idx1 + 1: -2]):\n",
    "            idx2 += idx1 + 1\n",
    "            idx3 = idx2 + 1\n",
    "            idx4 = len(array) - 1\n",
    "            while idx3 < idx4:\n",
    "                tmp = num1 + num2 + array[idx3] + array[idx4]\n",
    "                if tmp == targetSum:                    \n",
    "                    solution.append([num1, num2, array[idx3], array[idx4]])\n",
    "                    idx3 += 1\n",
    "                    idx4 -= 1\n",
    "                elif tmp < targetSum:\n",
    "                    idx3 += 1\n",
    "                elif tmp > targetSum:\n",
    "                    idx4 -= 1\n",
    "    return solution\n",
    "\n",
    "fourNumberSum([7, 6, 4, -1, 1, 2], 16)"
   ]
  },
  {
   "cell_type": "markdown",
   "metadata": {},
   "source": [
    "## Min Rewards\n",
    "\n",
    "### Description\n",
    "\n",
    "Given list of student scores on final exam in a particular order, and you want to reward students. Give rewards following two rules:\n",
    "1. All students must receive one reward\n",
    "2. Any given student must receive strictly more rewards than an adjacent student with a lower score and must receive strictly fewer rewards than an adjacent student with a higher score\n",
    "\n",
    "Write a function that takes in a list of scores and returns the minimum number of rewards that you must give out to students to satisfy the above two rules. Assume all students have different scores.\n",
    "\n",
    "### Example:\n",
    "\n",
    "```\n",
    "Input: [8, 4, 2, 1, 3, 6, 7, 9, 5]\n",
    "\n",
    "Output: 25 [4, 3, 2, 1, 2, 3, 4, 5, 1]\n",
    "```\n",
    "\n",
    "### Initial Thoughts\n",
    "\n",
    "Initialize a solution array of the same size as the number of scores with value of one. For each local minimum, expand to the left and right until you hit a peak and increment the reward by one each time. Time and space complexity are both O(n).\n",
    "\n",
    "### Optimal Solution\n",
    "\n",
    "Same as initial thoughts."
   ]
  },
  {
   "cell_type": "code",
   "execution_count": 28,
   "metadata": {},
   "outputs": [
    {
     "data": {
      "text/plain": [
       "25"
      ]
     },
     "execution_count": 28,
     "metadata": {},
     "output_type": "execute_result"
    }
   ],
   "source": [
    "def minRewards(scores):\n",
    "    if len(scores) == 2:\n",
    "        return 3\n",
    "    # Initialize rewards for each index\n",
    "    rewards = [1] * len(scores)\n",
    "    for idx, num in enumerate(scores):\n",
    "        # Skip the first index\n",
    "        if idx == 0 or idx == len(scores) - 1:\n",
    "            continue\n",
    "            \n",
    "        # Check for local minimum\n",
    "        if num < scores[idx - 1] and num < scores[idx + 1]:\n",
    "            left, right = idx - 1, idx + 1\n",
    "            # Increment to the left peak\n",
    "            current = num\n",
    "            while left >= 0:\n",
    "                if scores[left] > current and rewards[left] <= rewards[left + 1]:\n",
    "                    rewards[left] = rewards[left + 1] + 1\n",
    "                else:\n",
    "                    break\n",
    "                current = scores[left]\n",
    "                left -=1\n",
    "\n",
    "            # Increment to the right peak\n",
    "            current = num\n",
    "            while right < len(scores):\n",
    "                if scores[right] > current:\n",
    "                    rewards[right] = rewards[right - 1] + 1\n",
    "                else:\n",
    "                    break\n",
    "                current = scores[right]\n",
    "                right += 1\n",
    "    return sum(rewards)\n",
    "    \n",
    "minRewards([8, 4, 2, 1, 3, 6, 7, 9, 5])"
   ]
  },
  {
   "cell_type": "code",
   "execution_count": null,
   "metadata": {},
   "outputs": [],
   "source": []
  }
 ],
 "metadata": {
  "kernelspec": {
   "display_name": "Python 3",
   "language": "python",
   "name": "python3"
  },
  "language_info": {
   "codemirror_mode": {
    "name": "ipython",
    "version": 3
   },
   "file_extension": ".py",
   "mimetype": "text/x-python",
   "name": "python",
   "nbconvert_exporter": "python",
   "pygments_lexer": "ipython3",
   "version": "3.7.1"
  }
 },
 "nbformat": 4,
 "nbformat_minor": 2
}
