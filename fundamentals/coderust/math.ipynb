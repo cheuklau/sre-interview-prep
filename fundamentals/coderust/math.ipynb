{
 "cells": [
  {
   "cell_type": "markdown",
   "metadata": {},
   "source": [
    "## Table of Contents"
   ]
  },
  {
   "cell_type": "markdown",
   "metadata": {},
   "source": [
    "## Find kth Permutation\n",
    "\n",
    "### Description\n",
    "\n",
    "Given a set of n elements, find their kth permutation.\n",
    "\n",
    "### Example:\n",
    "\n",
    "N/A\n",
    "\n",
    "### Initial Thoughts\n",
    "\n",
    "The number of permutations is `n!` for a set of size `n`. Easiest to view algorithm with an example. Consider the set `{1, 2, 3, 4}` and `k=8`. The number of possible permutations for each of those numbers to be the first digit is `(n-1)!=3!=6`. Since we are looking for the kth permutation in order, we can think of blocks of 6 permutations assigned to `1, 2, 3` and `4`. Which of these blocks will `k=8` land in? The answer is `(k-1)//block=(8-1)//6=1` i.e., the block containing `2` which is now the first digit of the permutation. Our list now goes down to `{1, 3, 4}`. We also update `k=k-selected*block=8-1*6=2`. We now repeat with the new list and `k` until no numbers remain. The time and space complexity is O(n).\n",
    "\n",
    "### Optimal Solution\n",
    "\n",
    "Same as initial thoughts."
   ]
  },
  {
   "cell_type": "code",
   "execution_count": 13,
   "metadata": {},
   "outputs": [
    {
     "name": "stdout",
     "output_type": "stream",
     "text": [
      "6\n",
      "2\n",
      "1\n",
      "1\n",
      "2143\n"
     ]
    }
   ],
   "source": [
    "def factorial(k):\n",
    "    result = 1\n",
    "    for i in range(1, k + 1):\n",
    "        result = result * i\n",
    "    return result\n",
    "\n",
    "def find_kth_permutation(v, k):\n",
    "    \n",
    "    result = \"\"\n",
    "    while v:\n",
    "        # Find block size\n",
    "        block_size = factorial(len(v) - 1)\n",
    "        print(block_size)\n",
    "        # Find block to use\n",
    "        block = (k - 1)//block_size\n",
    "        # Append chosen digit to result\n",
    "        result += str(v[block])\n",
    "        # Remove chosen number from list\n",
    "        v.pop(block)\n",
    "        # Update k\n",
    "        k = k - block * block_size\n",
    "    return result\n",
    "\n",
    "result = find_kth_permutation([1, 2, 3, 4], 8)\n",
    "print(result)"
   ]
  },
  {
   "cell_type": "code",
   "execution_count": null,
   "metadata": {},
   "outputs": [],
   "source": []
  }
 ],
 "metadata": {
  "kernelspec": {
   "display_name": "Python 3",
   "language": "python",
   "name": "python3"
  },
  "language_info": {
   "codemirror_mode": {
    "name": "ipython",
    "version": 3
   },
   "file_extension": ".py",
   "mimetype": "text/x-python",
   "name": "python",
   "nbconvert_exporter": "python",
   "pygments_lexer": "ipython3",
   "version": "3.7.1"
  }
 },
 "nbformat": 4,
 "nbformat_minor": 2
}
