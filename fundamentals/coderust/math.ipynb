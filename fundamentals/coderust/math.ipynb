{
 "cells": [
  {
   "cell_type": "markdown",
   "metadata": {},
   "source": [
    "## Table of Contents"
   ]
  },
  {
   "cell_type": "markdown",
   "metadata": {},
   "source": [
    "## Find kth Permutation\n",
    "\n",
    "### Description\n",
    "\n",
    "Given a set of n elements, find their kth permutation.\n",
    "\n",
    "### Example:\n",
    "\n",
    "N/A\n",
    "\n",
    "### Initial Thoughts\n",
    "\n",
    "The number of permutations is `n!` for a set of size `n`. Easiest to view algorithm with an example. Consider the set `{1, 2, 3, 4}` and `k=8`. The number of possible permutations for each of those numbers to be the first digit is `(n-1)!=3!=6`. Since we are looking for the kth permutation in order, we can think of blocks of 6 permutations assigned to `1, 2, 3` and `4`. Which of these blocks will `k=8` land in? The answer is `(k-1)//block=(8-1)//6=1` i.e., the block containing `2` which is now the first digit of the permutation. Our list now goes down to `{1, 3, 4}`. We also update `k=k-selected*block=8-1*6=2`. We now repeat with the new list and `k` until no numbers remain. The time and space complexity is O(n).\n",
    "\n",
    "### Optimal Solution\n",
    "\n",
    "Same as initial thoughts."
   ]
  },
  {
   "cell_type": "code",
   "execution_count": 14,
   "metadata": {},
   "outputs": [
    {
     "name": "stdout",
     "output_type": "stream",
     "text": [
      "2143\n"
     ]
    }
   ],
   "source": [
    "def factorial(k):\n",
    "    result = 1\n",
    "    for i in range(1, k + 1):\n",
    "        result = result * i\n",
    "    return result\n",
    "\n",
    "def find_kth_permutation(v, k):\n",
    "    \n",
    "    result = \"\"\n",
    "    while v:\n",
    "        # Find block size\n",
    "        block_size = factorial(len(v) - 1)\n",
    "        # Find block to use\n",
    "        block = (k - 1)//block_size\n",
    "        # Append chosen digit to result\n",
    "        result += str(v[block])\n",
    "        # Remove chosen number from list\n",
    "        v.pop(block)\n",
    "        # Update k\n",
    "        k = k - block * block_size\n",
    "    return result\n",
    "\n",
    "result = find_kth_permutation([1, 2, 3, 4], 8)\n",
    "print(result)"
   ]
  },
  {
   "cell_type": "markdown",
   "metadata": {},
   "source": [
    "## Integer Division Without Using * or /\n",
    "\n",
    "### Description\n",
    "\n",
    "Divide two integers without using `/` or `*` operators.\n",
    "\n",
    "### Example:\n",
    "\n",
    "N/A\n",
    "\n",
    "### Initial Thoughts\n",
    "\n",
    "The brute force approach is to just continually add by increments of the divisor until you pass the dividend then return the iteration count. However, this is inefficient for dividing large by small numbers. A more efficient approach is to use bit shift operators `>>` and `<<` to multiply and divide. \n",
    "\n",
    "Num * 2 = Num << 1\n",
    "\n",
    "Num / 2 = Num >> 1\n",
    "\n",
    "We start with a quotient of 1 and temp set equal to the divisor. We keep shifting quotient and temp to the left by one until temp is equal or greater than the dividend. If temp is equal to the dividend, then we return the quotient. Otherwise, we right shift quotient and temp by one, store the quotient and set dividend minus temp as the new dividend and repeat the previous recursively until temp equals to the dividend. At the end we sum up all of the final quotients. The time complexity is O(logn) and O(1) if implemented iteratively.\n",
    "\n",
    "### Optimal Solution\n",
    "\n",
    "Same as initial thoughts."
   ]
  },
  {
   "cell_type": "code",
   "execution_count": 22,
   "metadata": {},
   "outputs": [
    {
     "data": {
      "text/plain": [
       "15"
      ]
     },
     "execution_count": 22,
     "metadata": {},
     "output_type": "execute_result"
    }
   ],
   "source": [
    "def integer_divide(x, y):\n",
    "  \n",
    "    # Divide by zero error return -1\n",
    "    if y == 0:\n",
    "        return -1\n",
    "    \n",
    "    # More edge cases\n",
    "    if x < y:\n",
    "        return 0\n",
    "    elif x == y:\n",
    "        return 1\n",
    "    elif y == 1:\n",
    "        return x\n",
    "\n",
    "    # Set the quotient and temp value\n",
    "    q, val = 1, y\n",
    "\n",
    "    # Perform while temp value is less than dividend\n",
    "    while val < x:\n",
    "        # Left shift val (equivalent to multiplying by two)\n",
    "        val <<= 1\n",
    "        # Left shift val (equivalent to multiplying by two)\n",
    "        q <<= 1\n",
    "\n",
    "    # Handle the overflow\n",
    "    if val > x:\n",
    "        # Right shift temp value (equivalent to dividing by two)\n",
    "        val >>= 1\n",
    "        # Right shift quotient (equivalent to dividing by two)\n",
    "        q >>= 1\n",
    "        # Make a recursive call to this function\n",
    "        return q + integer_divide(x-val, y)\n",
    "\n",
    "    return q;\n",
    "\n",
    "integer_divide(60,4)"
   ]
  },
  {
   "cell_type": "markdown",
   "metadata": {},
   "source": [
    "## Pythagorean Triplets\n",
    "\n",
    "### Description\n",
    "\n",
    "Given an integer array, find all Pythogorean triplets.\n",
    "\n",
    "### Example:\n",
    "\n",
    "N/A\n",
    "\n",
    "### Initial Thoughts\n",
    "\n",
    "This is identical to the three-sum problem. We start by sorting the array. Then we do one sweep through the array, and for each element we set a pointer to the beginning and end of the array. If the sum of the square of the two pointer's elements is less than the square of the current element then we move the left pointer to the right otherwise we move the right pointer to the left. If equal then we append the triplet to the solution. The time complexity is O(n^2) and the space complexity is O(logn).\n",
    "\n",
    "### Optimal Solution\n",
    "\n",
    "Same as initial thoughts."
   ]
  },
  {
   "cell_type": "code",
   "execution_count": 23,
   "metadata": {},
   "outputs": [],
   "source": [
    "def find_pythagorean_triplets(arr):\n",
    "    arr.sort()\n",
    "    solution = []\n",
    "    for idx, num in enumerate(arr):\n",
    "        if idx == 0:\n",
    "            left, right = 1, len(arr) - 1\n",
    "        elif idx == len(arr) - 1:\n",
    "            left, right = 0, len(arr) - 2\n",
    "        else:\n",
    "            left, right = 0, len(arr) - 1\n",
    "        while left < right:\n",
    "            tmp = arr[left]*arr[left] + arr[right]*arr[right] \n",
    "            if tmp == num * num:\n",
    "                solution.append([arr[left], num, arr[right]])\n",
    "            elif tmp < num * num:\n",
    "                left += 1\n",
    "                # Skip over current idx\n",
    "                if left == idx:\n",
    "                    left += 1\n",
    "            elif tmp > num * num:\n",
    "                right -= 1\n",
    "                # Skip over current idx\n",
    "                if right == idx:\n",
    "                    right -= 1\n",
    "    return solution"
   ]
  },
  {
   "cell_type": "markdown",
   "metadata": {},
   "source": [
    "## All Possible Combinations for a Given Sum\n",
    "\n",
    "### Description\n",
    "\n",
    "Given a positive integer, return all possible sum combinations for this number using positive integers.\n",
    "\n",
    "### Example:\n",
    "\n",
    "N/A\n",
    "\n",
    "### Initial Thoughts\n",
    "\n",
    "Recursively check all numbers which can sum up to the target. In each recursive call, we loop over all numbers from start to the target where start is initially set to 1. We store all results that sum to the target. The time complexity is O(2^n) and memory is O(n) since the stack can get at most the target deep.\n",
    "\n",
    "### Optimal Solution\n",
    "\n",
    "Same as initial thoughts."
   ]
  },
  {
   "cell_type": "code",
   "execution_count": 24,
   "metadata": {},
   "outputs": [
    {
     "data": {
      "text/plain": [
       "[[1, 1, 1, 1], [1, 1, 2], [1, 3], [2, 2]]"
      ]
     },
     "execution_count": 24,
     "metadata": {},
     "output_type": "execute_result"
    }
   ],
   "source": [
    "import copy\n",
    "\n",
    "def print_all_sum_rec(target, current_sum, start, output, result):\n",
    "    \n",
    "    # Base case: current sum is target so store current result to the output\n",
    "    if current_sum is target:\n",
    "        output.append(copy.copy(result))\n",
    "\n",
    "    # Loop through all numbers in range from start to the target\n",
    "    for i in range(start, target):\n",
    "        # Increment the current sum\n",
    "        temp_sum = current_sum + i\n",
    "        # If the current sum is still less than or equal to the target\n",
    "        if temp_sum <= target:\n",
    "            # Store the current number in the current result\n",
    "            result.append(i)\n",
    "            # Call the recursive function with the target, current sum, current digit\n",
    "            # current out and result\n",
    "            print_all_sum_rec(target, temp_sum, i, output, result)\n",
    "            # Remove result after the return call\n",
    "            result.pop()\n",
    "        # We went over so return\n",
    "        else:\n",
    "            return\n",
    "\n",
    "def print_all_sum(target):\n",
    "    output = []\n",
    "    result = []\n",
    "    print_all_sum_rec(target, 0, 1, output, result)\n",
    "    return output\n",
    "\n",
    "print_all_sum(4)"
   ]
  },
  {
   "cell_type": "markdown",
   "metadata": {},
   "source": [
    "## Find Missing Number\n",
    "\n",
    "### Description\n",
    "\n",
    "Given an array of positive numbers from 1 to n such that all numbers from 1 to n are present except one, find the missing number.\n",
    "\n",
    "### Example:\n",
    "\n",
    "N/A\n",
    "\n",
    "### Initial Thoughts\n",
    "\n",
    "Iterate through array, keeping track of the sum. Calculate the total sum if all numbers were present using:\n",
    "\n",
    "Sum from [1, n]=n*(n+1)/2\n",
    "\n",
    "Subtract the above by the sum of the array to get the missing number. Time complexity is O(n) to perform the sum and space complexity is O(1).\n",
    "\n",
    "### Optimal Solution\n",
    "\n",
    "Same as initial thoughts."
   ]
  },
  {
   "cell_type": "code",
   "execution_count": 28,
   "metadata": {},
   "outputs": [
    {
     "data": {
      "text/plain": [
       "6.0"
      ]
     },
     "execution_count": 28,
     "metadata": {},
     "output_type": "execute_result"
    }
   ],
   "source": [
    "def find_missing(input):\n",
    "    total = sum(input)\n",
    "    n = len(input) + 1\n",
    "    correct_total = n*(n+1)/2\n",
    "    return correct_total - total\n",
    "find_missing([3, 7, 1, 2, 8, 4, 5])"
   ]
  },
  {
   "cell_type": "markdown",
   "metadata": {},
   "source": [
    "## Print All Permutations of a String\n",
    "\n",
    "### Description\n",
    "\n",
    "Implement a method to print all permutations of a given string without duplicates.\n",
    "\n",
    "### Example:\n",
    "\n",
    "N/A\n",
    "\n",
    "### Initial Thoughts\n",
    "\n",
    "We know that `n!` is the number of permutations for a set of size `n`. If we choose an element for the first position, the total permutations remaining are `(n-1)!`. \n",
    "\n",
    "### Optimal Solution\n",
    "\n",
    "Same as initial thoughts."
   ]
  },
  {
   "cell_type": "code",
   "execution_count": 34,
   "metadata": {},
   "outputs": [
    {
     "data": {
      "text/plain": [
       "['bad', 'bda', 'abd', 'adb', 'dba', 'dab']"
      ]
     },
     "execution_count": 34,
     "metadata": {},
     "output_type": "execute_result"
    }
   ],
   "source": [
    "def permute_string(input):\n",
    "    permutations = []\n",
    "    permute_string_helper(input, \"\", permutations)\n",
    "    return permutations\n",
    "    \n",
    "def permute_string_helper(input, currentPermutation, permutations):\n",
    "    # Base case: input string is empty\n",
    "    # We need to append the current permutation\n",
    "    if not len(input):\n",
    "        permutations.append(currentPermutation)\n",
    "    else:\n",
    "        # For each letter we:\n",
    "        # 1. Form the new input taking out the current letter\n",
    "        # 2. Append the current letter to new permutation\n",
    "        # 3. Recursively call function again with new input, new permutation\n",
    "        for i in range(len(input)):\n",
    "            newInput = input[:i] + input[i+1:]\n",
    "            newPermutation = currentPermutation + input[i]\n",
    "            permute_string_helper(newInput, newPermutation, permutations)\n",
    "\n",
    "permute_string(\"bad\")"
   ]
  },
  {
   "cell_type": "markdown",
   "metadata": {},
   "source": [
    "## Find All Subsets of a Set\n",
    "\n",
    "### Description\n",
    "\n",
    "Find all subsets of a given set of integers.\n",
    "\n",
    "### Example:\n",
    "\n",
    "N/A\n",
    "\n",
    "### Initial Thoughts\n",
    "\n",
    "There are two choices for every element: either include it in the subset or do not include it. We can use a recursive approach for this problem. First create a recursive function that takes in the input array, current index, and current subset. Time complexity is O(2^n) and space complexity is O(n).\n",
    "\n",
    "### Optimal Solution\n",
    "\n",
    "Same as initial thoughts."
   ]
  },
  {
   "cell_type": "code",
   "execution_count": 75,
   "metadata": {},
   "outputs": [
    {
     "name": "stdout",
     "output_type": "stream",
     "text": [
      "[[1], [1, 2], [1, 2, 3], [1, 3], [2], [2, 3], [3]]\n"
     ]
    }
   ],
   "source": [
    "def subsets(A, result):\n",
    "    subsets_helper(A, [], 0, result)\n",
    "\n",
    "def subsets_helper(A, subset, index, result):\n",
    "    if len(subset) > 0:\n",
    "        # Append subset to final result\n",
    "        result.append(subset[:])\n",
    "    for i in range(index, len(A)):\n",
    "        # Include current element in subset\n",
    "        subset.append(A[i])\n",
    "        # Move to next element\n",
    "        subsets_helper(A, subset, i+1, result)\n",
    "        # Remove current element from subset to trigger backtracking\n",
    "        subset.pop(-1)\n",
    "    return\n",
    "\n",
    "result = []\n",
    "subsets([1, 2, 3], result)\n",
    "print(result)"
   ]
  },
  {
   "cell_type": "code",
   "execution_count": null,
   "metadata": {},
   "outputs": [],
   "source": []
  },
  {
   "cell_type": "code",
   "execution_count": null,
   "metadata": {},
   "outputs": [],
   "source": []
  }
 ],
 "metadata": {
  "kernelspec": {
   "display_name": "Python 3",
   "language": "python",
   "name": "python3"
  },
  "language_info": {
   "codemirror_mode": {
    "name": "ipython",
    "version": 3
   },
   "file_extension": ".py",
   "mimetype": "text/x-python",
   "name": "python",
   "nbconvert_exporter": "python",
   "pygments_lexer": "ipython3",
   "version": "3.7.1"
  }
 },
 "nbformat": 4,
 "nbformat_minor": 2
}
