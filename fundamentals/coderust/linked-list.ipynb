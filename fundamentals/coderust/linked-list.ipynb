{
 "cells": [
  {
   "cell_type": "markdown",
   "metadata": {},
   "source": [
    "## Table of Contents"
   ]
  },
  {
   "cell_type": "markdown",
   "metadata": {},
   "source": [
    "## Reverse a Singly Linked List\n",
    "\n",
    "### Description\n",
    "\n",
    "Given a pointer to the head of a singly linked list, reverse it and return the pointer to the head of the reversed linked list.\n",
    "\n",
    "### Example:\n",
    "\n",
    "N/A\n",
    "\n",
    "### Initial Thoughts\n",
    "\n",
    "Set pointer 1 to the head, set pointer 2 to the next node. Set a third pointer temp to the next node after that. Point the next node of pointer 1 to null, and the next node of pointer 2 to the head. Move pointer 1 and 2 down the linked list by 1 (i.e., pointer 1 goes to 2 and pointer 2 goes to temp). Set the next temp pointer as the node downstream of pointer 2. Repeat until temp node points to null at which point we set the head as pointing to the pointer 2 node. We return the pointer 2 node. This is O(n) in time and O(1) in space since we reversed it in place.\n",
    "\n",
    "### Optimal Solution\n",
    "\n",
    "Same as initial thoughts."
   ]
  },
  {
   "cell_type": "code",
   "execution_count": 16,
   "metadata": {},
   "outputs": [
    {
     "name": "stdout",
     "output_type": "stream",
     "text": [
      "28\n",
      "21\n",
      "14\n",
      "7\n"
     ]
    },
    {
     "data": {
      "text/plain": [
       "0"
      ]
     },
     "execution_count": 16,
     "metadata": {},
     "output_type": "execute_result"
    }
   ],
   "source": [
    "class LinkedListNode:\n",
    "    def __init__(self, value, next=None):\n",
    "        self.value = value\n",
    "        self.next = next\n",
    "        \n",
    "def print_linked_list(head):\n",
    "    current = head\n",
    "    while current:\n",
    "        print(current.value)\n",
    "        current = current.next\n",
    "    return 0\n",
    "\n",
    "def reverse(head):\n",
    "    # Edge case of head is null or there is only one node\n",
    "    if not head or not head.next:\n",
    "        return head\n",
    "    p1, p2 = head, head.next\n",
    "    # Set the head to point to null\n",
    "    p1.next = None\n",
    "    while True:\n",
    "        p3 = p2.next\n",
    "        p2.next = p1\n",
    "        if not p3:\n",
    "            return p2\n",
    "        p1, p2 = p2, p3\n",
    "\n",
    "n1 = LinkedListNode(7)\n",
    "n2 = LinkedListNode(14)\n",
    "n3 = LinkedListNode(21)\n",
    "n4 = LinkedListNode(28)\n",
    "n1.next = n2\n",
    "n2.next = n3\n",
    "n3.next = n4\n",
    "result = reverse(n1)\n",
    "print_linked_list(result)"
   ]
  },
  {
   "cell_type": "code",
   "execution_count": null,
   "metadata": {},
   "outputs": [],
   "source": []
  }
 ],
 "metadata": {
  "kernelspec": {
   "display_name": "Python 3",
   "language": "python",
   "name": "python3"
  },
  "language_info": {
   "codemirror_mode": {
    "name": "ipython",
    "version": 3
   },
   "file_extension": ".py",
   "mimetype": "text/x-python",
   "name": "python",
   "nbconvert_exporter": "python",
   "pygments_lexer": "ipython3",
   "version": "3.7.1"
  }
 },
 "nbformat": 4,
 "nbformat_minor": 2
}
