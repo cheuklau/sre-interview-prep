{
 "cells": [
  {
   "cell_type": "markdown",
   "metadata": {},
   "source": [
    "## Table of Contents"
   ]
  },
  {
   "cell_type": "markdown",
   "metadata": {},
   "source": [
    "## Binary Search on a Sorted Array\n",
    "\n",
    "### Description\n",
    "\n",
    "Given a sorted array of integers, return the index of the given key. Return `-1` if not found.\n",
    "\n",
    "### Example:\n",
    "\n",
    "Input: [1, 10, 20, 47, 59, 62], 47\n",
    "Output: 3\n",
    "\n",
    "### Initial Thoughts\n",
    "\n",
    "Set left and right pointers to the first and last index. Compare the key to the mid index. Return mid index if equal otherwise move the left to the mid if key is less than the array value at mid; otherwise move the right to the mid. Repeat until left and right indices cross. Time complexity is O(logn) since you are eliminating on average half of the array each time. Space complexity is O(1).\n",
    "\n",
    "### Optimal Solution\n",
    "\n",
    "Same as initial thoughts."
   ]
  },
  {
   "cell_type": "code",
   "execution_count": 3,
   "metadata": {},
   "outputs": [
    {
     "data": {
      "text/plain": [
       "5"
      ]
     },
     "execution_count": 3,
     "metadata": {},
     "output_type": "execute_result"
    }
   ],
   "source": [
    "def binary_search(a, key):\n",
    "    left, right = 0, len(a) - 1\n",
    "    while left <= right:\n",
    "        mid = left + ((right - left) // 2)\n",
    "        if a[mid] == key:\n",
    "            return mid\n",
    "        elif a[mid] < key:\n",
    "            left = mid + 1\n",
    "        else:\n",
    "            right = mid - 1\n",
    "    return -1\n",
    "\n",
    "binary_search([1, 2, 4, 7, 8, 12, 15, 19, 24, 50, 69, 80, 100],12)"
   ]
  },
  {
   "cell_type": "markdown",
   "metadata": {},
   "source": [
    "## Find Maximum in Sliding Window\n",
    "\n",
    "### Description\n",
    "\n",
    "Given an array of integers, find the max value in a window.\n",
    "\n",
    "### Example:\n",
    "\n",
    "Input: [1, 2, 3, 4, 3, 2, 1, 2, 5], 4\n",
    "Output: [4, 4, 4, 4, 3, 5]\n",
    "\n",
    "### Initial Thoughts\n",
    "\n",
    "First determine how many moves you can make with sliding window before going over. Initialize left and right pointers to the start and window size indices. Calculate the max and append to the result list. Move the left and right pointers to the right by one, and repeat for the total number of moves. The time complexity is O(n) since we could have a window size of 1. The space complexity is also O(n) for the same reason.\n",
    "\n",
    "### Optimal Solution\n",
    "\n",
    "Same as initial thoughts."
   ]
  },
  {
   "cell_type": "code",
   "execution_count": 4,
   "metadata": {},
   "outputs": [
    {
     "data": {
      "text/plain": [
       "[4, 4, 4, 4, 3, 5]"
      ]
     },
     "execution_count": 4,
     "metadata": {},
     "output_type": "execute_result"
    }
   ],
   "source": [
    "def find_max_sliding_window(arr, window_size):\n",
    "    result = []\n",
    "    # Note: this includes the original window\n",
    "    num_moves = len(arr) - window_size + 1\n",
    "    left, right = 0, window_size - 1\n",
    "    for i in range(0, num_moves):\n",
    "        result.append(max(arr[left:right+1]))\n",
    "        left += 1\n",
    "        right += 1\n",
    "    return result\n",
    "\n",
    "find_max_sliding_window([1, 2, 3, 4, 3, 2, 1, 2, 5],4)"
   ]
  },
  {
   "cell_type": "markdown",
   "metadata": {},
   "source": [
    "## Search a Rotated Array\n",
    "\n",
    "### Description\n",
    "\n",
    "Search for a given number in a sorted array that has been rotated by some arbitrary number. Assume the number does not contain duplicates.\n",
    "\n",
    "### Example:\n",
    "\n",
    "Input: [4, 5, 6, 1, 2, 3], 6\n",
    "Output: 2\n",
    "\n",
    "### Initial Thoughts\n",
    "\n",
    "This is just a slight variation of the binary search algorithm. At each iteration we ask:\n",
    "1. Is the left half sorted?\n",
    "    a. If it is and the key lies in the left half, we just eliminate the right half.\n",
    "    b. Otherwise, we eliminate the left half\n",
    "2. Else, the right half is sorted (has to be if the left half is not sorted)\n",
    "    a. If it is and the key lies in the right half, we just eliminate the left half.\n",
    "    b. Otherwise, we eliminate the right half.\n",
    "The time complexity is the same as the binary search i.e., O(logn). Ths space complexity is O(1).\n",
    "\n",
    "### Optimal Solution\n",
    "\n",
    "Same as initial thoughts."
   ]
  },
  {
   "cell_type": "code",
   "execution_count": 7,
   "metadata": {},
   "outputs": [
    {
     "data": {
      "text/plain": [
       "2"
      ]
     },
     "execution_count": 7,
     "metadata": {},
     "output_type": "execute_result"
    }
   ],
   "source": [
    "def binary_search_rotated(arr, key):\n",
    "    start, end = 0, len(arr) - 1\n",
    "    \n",
    "    while start <= end:\n",
    "        # Calculate midpoint\n",
    "        mid = start + (end - start) // 2\n",
    "        # Return for match\n",
    "        if arr[mid] == key:\n",
    "            return mid\n",
    "        # If left half is sorted\n",
    "        elif arr[start] <= arr[mid]:\n",
    "            # If key lies in the range we eliminate the right half\n",
    "            if arr[start] <= key and key <= arr[mid]:\n",
    "                end = mid - 1\n",
    "            # Otherwise, key is in the right half\n",
    "            else:\n",
    "                start = mid + 1\n",
    "        # Otherwise, the right half is sorted\n",
    "        else:\n",
    "            # If the key is in the right half we eliminate the left half\n",
    "            if arr[mid] <= key and key <= arr[end]:\n",
    "                start = mid + 1\n",
    "            # Otherwise, key is in the left half\n",
    "            else:\n",
    "                end = mid - 1\n",
    "            \n",
    "    return -1\n",
    "\n",
    "binary_search_rotated([4, 5, 6, 1, 2, 3],6)"
   ]
  },
  {
   "cell_type": "markdown",
   "metadata": {},
   "source": [
    "## Find the Least Common Number\n",
    "\n",
    "### Description\n",
    "\n",
    "Given three sorted integer arrays, find the minimum number common to all three.\n",
    "\n",
    "### Example:\n",
    "\n",
    "Input: [1, 4, 6, 7, 8, 10, 14], [1, 4, 5, 6, 7, 8, 50], [0, 6, 7, 8, 10, 25, 30, 40]\n",
    "Output: 6\n",
    "\n",
    "### Initial Thoughts\n",
    "\n",
    "We start with a pointer to the beginning of all three arrays. We increment the pointers of the arrays that are less than the max of all three current pointers. Once all three pointers point to the same value we return it. If we reach the end of all three arrays with no common number then we return `-1`. The time complexity is O(n) where n is the length of the longest array. The space complexity is O(1) since we just need the three pointers.\n",
    "\n",
    "### Optimal Solution\n",
    "\n",
    "Same as initial thoughts."
   ]
  },
  {
   "cell_type": "code",
   "execution_count": 8,
   "metadata": {},
   "outputs": [
    {
     "data": {
      "text/plain": [
       "6"
      ]
     },
     "execution_count": 8,
     "metadata": {},
     "output_type": "execute_result"
    }
   ],
   "source": [
    "def find_least_common_number(a, b, c):\n",
    "    \n",
    "    pta, ptb, ptc = 0, 0, 0\n",
    "    while True:\n",
    "        tmp = max(a[pta], b[ptb], c[ptc])\n",
    "        if a[pta] == b[ptb] == c[ptc]:\n",
    "            return a[pta]\n",
    "        if a[pta] < tmp:\n",
    "            if pta < len(a) - 1:\n",
    "                pta += 1\n",
    "        if b[ptb] < tmp:\n",
    "            if ptb < len(b) - 1:\n",
    "                ptb += 1\n",
    "        if c[ptc] < tmp:\n",
    "            if ptc < len(c) - 1:\n",
    "                ptc += 1\n",
    "        if pta == len(a) and ptb == len(b) and ptc == len(c):\n",
    "            return -1\n",
    "\n",
    "find_least_common_number([1, 4, 6, 7, 8, 10, 14], [1, 4, 5, 6, 7, 8, 50], [0, 6, 7, 8, 10, 25, 30, 40])"
   ]
  },
  {
   "cell_type": "markdown",
   "metadata": {},
   "source": [
    "## Rotate an Array by N Elements\n",
    "\n",
    "### Description\n",
    "\n",
    "Given an array of integers, rotate the array by N elements where N is an integer. If N is positive, perform a right rotation, if N is negative perform a left rotation.\n",
    "\n",
    "### Example:\n",
    "\n",
    "Input: [1, 2, 3, 4, 5], 2\n",
    "Output: [4, 5, 1, 2, 3]\n",
    "\n",
    "### Initial Thoughts\n",
    "\n",
    "We could easily cut up the original array, rearrange and assign it to a temporary list which can then be used to alter the original list (problem requires function to change it in place). This would be O(n) time due to the copy and assignment as well as O(n) space since we need to form the temporary variable. A better way is to reverse the entire list in place, then reverse the first N elements (assuming a right rotation) and then reverse the remaining elements. This would only require pointers resulting in O(n) in time due to the reversal, and O(1) in space.\n",
    "\n",
    "### Optimal Solution\n",
    "\n",
    "Same as initial thoughts."
   ]
  },
  {
   "cell_type": "code",
   "execution_count": 9,
   "metadata": {},
   "outputs": [
    {
     "name": "stdout",
     "output_type": "stream",
     "text": [
      "[4, 5, 1, 2, 3]\n"
     ]
    }
   ],
   "source": [
    "def rotate_array(arr, n):\n",
    "    reverse(arr, 0, len(arr) - 1)\n",
    "    # Convert negative to positive rotations\n",
    "    if n < 0:\n",
    "        n = len(arr) + n\n",
    "    # Reverse the first half\n",
    "    reverse(arr, 0, n - 1)\n",
    "    # Reverse the second half\n",
    "    reverse(arr, n, len(arr) - 1)\n",
    "    return 0\n",
    "\n",
    "def reverse(arr, l, r):\n",
    "    while l < r:\n",
    "        arr[l], arr[r] = arr[r], arr[l]\n",
    "        l += 1\n",
    "        r -= 1\n",
    "    return 0\n",
    "\n",
    "arr = [1, 2, 3, 4, 5]\n",
    "rotate_array(arr, 2)\n",
    "print(arr)"
   ]
  },
  {
   "cell_type": "markdown",
   "metadata": {},
   "source": [
    "## Find Low/High Index of a Key in a Sorted Array\n",
    "\n",
    "### Description\n",
    "\n",
    "Given a sorted array of integers, return the low and high index of the given key.\n",
    "\n",
    "### Example:\n",
    "\n",
    "Input: [1, 2, 5, 5, 5, 5, 5, 5, 5, 5, 20], 5\n",
    "Output: 2, 9\n",
    "\n",
    "### Initial Thoughts\n",
    "\n",
    "Brute force would be to traverse the entire array, keeping track of the first and last time we see the key. This would be O(n) time, and O(1) space. However, this brute force approach does not take into account the fact that the array is pre-sorted. We can instead perform a slight variation of the binary search where we first locate the low index and then locate the high index. To locate the low index, we perform a binary search except if mid element is greater than or equal to the key the we move the high index to mid - 1. Likewise if the mid element is less than the key then we move the low elemen to mid + 1. When low and high cross, then low index will be pointing to the first occurence of the key. For finding the high index, when the mid element is less than or equal to the key then we move the low index to mid + 1, and when the element at mid is greater than the key move high index to mid - 1. When low and high crosses then high will be pointing to the last index of key. The time complexity in this case is O(logn) since we are just doing binary search twice. The space complexity is O(1).\n",
    "\n",
    "### Optimal Solution\n",
    "\n",
    "Same as initial thoughts."
   ]
  },
  {
   "cell_type": "code",
   "execution_count": 13,
   "metadata": {},
   "outputs": [
    {
     "name": "stdout",
     "output_type": "stream",
     "text": [
      "2\n",
      "9\n"
     ]
    }
   ],
   "source": [
    "def find_low_index(arr, key):\n",
    "    low, high = 0, len(arr) - 1\n",
    "    while low <= high:\n",
    "        mid = low + (high - low) // 2\n",
    "        if arr[mid] >= key:\n",
    "            high = mid - 1\n",
    "        else:\n",
    "            low = mid + 1\n",
    "    if arr[low] == key:\n",
    "        return low\n",
    "    return -1\n",
    "            \n",
    "def find_high_index(arr, key):\n",
    "    low, high = 0, len(arr) - 1\n",
    "    while low <= high:\n",
    "        mid = low + (high - low) // 2\n",
    "        if arr[mid] <= key:\n",
    "            low = mid + 1\n",
    "        else:\n",
    "            high = mid - 1\n",
    "    if arr[high] == key:\n",
    "        return high\n",
    "    return -1\n",
    "\n",
    "print(find_low_index([1, 2, 5, 5, 5, 5, 5, 5, 5, 5, 20], 5))\n",
    "print(find_high_index([1, 2, 5, 5, 5, 5, 5, 5, 5, 5, 20], 5))"
   ]
  },
  {
   "cell_type": "code",
   "execution_count": null,
   "metadata": {},
   "outputs": [],
   "source": []
  }
 ],
 "metadata": {
  "kernelspec": {
   "display_name": "Python 3",
   "language": "python",
   "name": "python3"
  },
  "language_info": {
   "codemirror_mode": {
    "name": "ipython",
    "version": 3
   },
   "file_extension": ".py",
   "mimetype": "text/x-python",
   "name": "python",
   "nbconvert_exporter": "python",
   "pygments_lexer": "ipython3",
   "version": "3.7.1"
  }
 },
 "nbformat": 4,
 "nbformat_minor": 2
}
