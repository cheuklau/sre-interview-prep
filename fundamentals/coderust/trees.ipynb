{
 "cells": [
  {
   "cell_type": "markdown",
   "metadata": {},
   "source": [
    "## Table of Contents"
   ]
  },
  {
   "cell_type": "markdown",
   "metadata": {},
   "source": [
    "## Check if Two Binary Trees are Identical\n",
    "\n",
    "### Description\n",
    "\n",
    "Given root of two binary trees determine if they are identical.\n",
    "\n",
    "### Example:\n",
    "\n",
    "N/A\n",
    "\n",
    "### Initial Thoughts\n",
    "\n",
    "We can just traverse both trees together and compare their values. Time complexity is O(n) and space complexity is O(h) where `n` is the number of nodes and `h` is the height of the tree.\n",
    "\n",
    "### Optimal Solution\n",
    "\n",
    "Same as initial thoughts."
   ]
  },
  {
   "cell_type": "code",
   "execution_count": 12,
   "metadata": {
    "scrolled": true
   },
   "outputs": [
    {
     "data": {
      "text/plain": [
       "True"
      ]
     },
     "execution_count": 12,
     "metadata": {},
     "output_type": "execute_result"
    }
   ],
   "source": [
    "class Node:\n",
    "    def __init__(self, data):\n",
    "        self.data = data\n",
    "        self.left = None\n",
    "        self.right = None\n",
    "        \n",
    "def are_identical(root1, root2):\n",
    "    \n",
    "    return are_identical_helper(root1, root2)\n",
    "    \n",
    "def are_identical_helper(root1, root2):\n",
    "\n",
    "    # Base case: we reached a leaf node\n",
    "    # or one tree is a leaf node but other isn't\n",
    "    if not root1 and not root2:\n",
    "        return True\n",
    "    elif (root1 and not root2) or (root2 and not root1):\n",
    "        return False\n",
    "    \n",
    "    # Compare value and recursively check left and right sub-trees\n",
    "    if root1.data == root2.data and \\\n",
    "        are_identical_helper(root1.left, root2.left) and \\\n",
    "        are_identical_helper(root1.right, root2.right):\n",
    "            return True\n",
    "    \n",
    "    # If we reach here then we did not meet true condition\n",
    "    return False\n",
    "        \n",
    "# First tree\n",
    "n11a = Node(100)\n",
    "n21a = Node(50)\n",
    "n22a = Node(200)\n",
    "n31a = Node(25)\n",
    "n32a = Node(125)\n",
    "n33a = Node(350)\n",
    "n11a.left = n21a\n",
    "n11a.right = n22a\n",
    "n21a.left = n31a\n",
    "n22a.left = n32a\n",
    "n22a.right = n33a\n",
    "\n",
    "# Second tree\n",
    "n11b = Node(100)\n",
    "n21b = Node(50)\n",
    "n22b = Node(200)\n",
    "n31b = Node(25)\n",
    "n32b = Node(125)\n",
    "n33b = Node(350)\n",
    "n11b.left = n21b\n",
    "n11b.right = n22b\n",
    "n21b.left = n31b\n",
    "n22b.left = n32b\n",
    "n22b.right = n33b\n",
    "\n",
    "are_identical(n11a, n11b)"
   ]
  },
  {
   "cell_type": "markdown",
   "metadata": {},
   "source": [
    "## Write an In-Order Iterator for a Binary Tree\n",
    "\n",
    "### Description\n",
    "\n",
    "Implement a class that implements an in-order iterator on a Binary Tree.\n",
    "\n",
    "### Example:\n",
    "\n",
    "N/A\n",
    "\n",
    "### Initial Thoughts\n",
    "\n",
    "In-order traversal visits left child first then current node then right node. We can do this recursively which leads to O(n) time since we have to visit each node and O(h) space where `h` is the height of the tree.\n",
    "\n",
    "### Optimal Solution\n",
    "\n",
    "Same as initial thoughts."
   ]
  },
  {
   "cell_type": "code",
   "execution_count": 16,
   "metadata": {},
   "outputs": [
    {
     "data": {
      "text/plain": [
       "'25 50 100 125 200 350 '"
      ]
     },
     "execution_count": 16,
     "metadata": {},
     "output_type": "execute_result"
    }
   ],
   "source": [
    "class InorderIterator:\n",
    "    \n",
    "    def __init__(self, root):\n",
    "        # Initialize stack\n",
    "        self.stack = []\n",
    "        # Push all of the left children onto stack\n",
    "        self.populate_iterator(root)\n",
    "        \n",
    "    def populate_iterator(self, root):\n",
    "        # Push all of the left children onto the stack\n",
    "        while root:\n",
    "            self.stack.append(root)\n",
    "            root = root.left\n",
    "            \n",
    "    def hasNext(self):\n",
    "        # Check if stack is empty\n",
    "        if not self.stack:\n",
    "            return False\n",
    "        else:\n",
    "            return True\n",
    "\n",
    "    def getNext(self):\n",
    "        # Stack is empty\n",
    "        if not self.stack:\n",
    "            return None\n",
    "        # Pop the top of the stack\n",
    "        r_val = self.stack.pop(-1)\n",
    "        # Add right child to stack and all of its\n",
    "        # left children\n",
    "        self.populate_iterator(r_val.right)\n",
    "        return r_val\n",
    "\n",
    "def inorder_using_iterator(root):\n",
    "    \"\"\"\n",
    "    This is given by problem statement\n",
    "    \"\"\"\n",
    "    \n",
    "    iter = InorderIterator(root)\n",
    "    mystr = \"\"\n",
    "    while iter.hasNext():\n",
    "        ptr = iter.getNext()\n",
    "        mystr += str(ptr.data) + \" \"\n",
    "    return mystr\n",
    "    \n",
    "n11a = Node(100)\n",
    "n21a = Node(50)\n",
    "n22a = Node(200)\n",
    "n31a = Node(25)\n",
    "n32a = Node(125)\n",
    "n33a = Node(350)\n",
    "n11a.left = n21a\n",
    "n11a.right = n22a\n",
    "n21a.left = n31a\n",
    "n22a.left = n32a\n",
    "n22a.right = n33a\n",
    "inorder_using_iterator(n11a)"
   ]
  },
  {
   "cell_type": "code",
   "execution_count": null,
   "metadata": {},
   "outputs": [],
   "source": []
  }
 ],
 "metadata": {
  "kernelspec": {
   "display_name": "Python 3",
   "language": "python",
   "name": "python3"
  },
  "language_info": {
   "codemirror_mode": {
    "name": "ipython",
    "version": 3
   },
   "file_extension": ".py",
   "mimetype": "text/x-python",
   "name": "python",
   "nbconvert_exporter": "python",
   "pygments_lexer": "ipython3",
   "version": "3.7.1"
  }
 },
 "nbformat": 4,
 "nbformat_minor": 2
}
