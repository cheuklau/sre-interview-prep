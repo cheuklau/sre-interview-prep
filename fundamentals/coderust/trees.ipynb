{
 "cells": [
  {
   "cell_type": "markdown",
   "metadata": {},
   "source": [
    "## Table of Contents"
   ]
  },
  {
   "cell_type": "markdown",
   "metadata": {},
   "source": [
    "## Check if Two Binary Trees are Identical\n",
    "\n",
    "### Description\n",
    "\n",
    "Given root of two binary trees determine if they are identical.\n",
    "\n",
    "### Example:\n",
    "\n",
    "N/A\n",
    "\n",
    "### Initial Thoughts\n",
    "\n",
    "We can just traverse both trees together and compare their values. Time complexity is O(n) and space complexity is O(h) where `n` is the number of nodes and `h` is the height of the tree.\n",
    "\n",
    "### Optimal Solution\n",
    "\n",
    "Same as initial thoughts."
   ]
  },
  {
   "cell_type": "code",
   "execution_count": 10,
   "metadata": {
    "scrolled": true
   },
   "outputs": [
    {
     "data": {
      "text/plain": [
       "True"
      ]
     },
     "execution_count": 10,
     "metadata": {},
     "output_type": "execute_result"
    }
   ],
   "source": [
    "class Node:\n",
    "    def __init__(self, val):\n",
    "        self.val = val\n",
    "        self.left = None\n",
    "        self.right = None\n",
    "        \n",
    "def are_identical(root1, root2):\n",
    "    \n",
    "    return are_identical_helper(root1, root2)\n",
    "    \n",
    "def are_identical_helper(root1, root2):\n",
    "\n",
    "    # Base case: we reached a leaf node\n",
    "    # or one tree is a leaf node but other isn't\n",
    "    if not root1 and not root2:\n",
    "        return True\n",
    "    elif (root1 and not root2) or (root2 and not root1):\n",
    "        return False\n",
    "    \n",
    "    # Compare value and recursively check left and right sub-trees\n",
    "    if root1.val == root2.val and \\\n",
    "        are_identical_helper(root1.left, root2.left) and \\\n",
    "        are_identical_helper(root1.right, root2.right):\n",
    "            return True\n",
    "    \n",
    "    # If we reach here then we did not meet true condition\n",
    "    return False\n",
    "        \n",
    "# First tree\n",
    "n11a = Node(100)\n",
    "n21a = Node(50)\n",
    "n22a = Node(200)\n",
    "n31a = Node(25)\n",
    "n32a = Node(125)\n",
    "n33a = Node(350)\n",
    "n11a.left = n21a\n",
    "n11a.right = n22a\n",
    "n21a.left = n31a\n",
    "n22a.left = n32a\n",
    "n22a.right = n33a\n",
    "\n",
    "# Second tree\n",
    "n11b = Node(100)\n",
    "n21b = Node(50)\n",
    "n22b = Node(200)\n",
    "n31b = Node(25)\n",
    "n32b = Node(125)\n",
    "n33b = Node(350)\n",
    "n11b.left = n21b\n",
    "n11b.right = n22b\n",
    "n21b.left = n31b\n",
    "n22b.left = n32b\n",
    "n22b.right = n33b\n",
    "\n",
    "are_identical(n11a, n11b)"
   ]
  },
  {
   "cell_type": "code",
   "execution_count": null,
   "metadata": {},
   "outputs": [],
   "source": []
  }
 ],
 "metadata": {
  "kernelspec": {
   "display_name": "Python 3",
   "language": "python",
   "name": "python3"
  },
  "language_info": {
   "codemirror_mode": {
    "name": "ipython",
    "version": 3
   },
   "file_extension": ".py",
   "mimetype": "text/x-python",
   "name": "python",
   "nbconvert_exporter": "python",
   "pygments_lexer": "ipython3",
   "version": "3.7.1"
  }
 },
 "nbformat": 4,
 "nbformat_minor": 2
}
