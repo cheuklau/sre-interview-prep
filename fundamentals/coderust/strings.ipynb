{
 "cells": [
  {
   "cell_type": "markdown",
   "metadata": {},
   "source": [
    "## Table of Contents"
   ]
  },
  {
   "cell_type": "markdown",
   "metadata": {},
   "source": [
    "## Reverse Words in a Sentence\n",
    "\n",
    "### Description\n",
    "\n",
    "Given a sentence (array of characters), reverse the order of the words.\n",
    "\n",
    "### Example:\n",
    "\n",
    "N/A\n",
    "\n",
    "### Initial Thoughts\n",
    "\n",
    "If we are allowed extra space, we could just iterate through the string, storing each word (based on space delimiter) and then iterate backwards through array appending to a string. We can also do this without extra space by first reversing the entire string in place then reverse each word in place. The time complexity is O(n) and space complexity is O(1).\n",
    "\n",
    "Note: You cannot reverse a string in place in Python because strings are immutable. For this problem, we will just represent the string as an array of chars.\n",
    "\n",
    "### Optimal Solution\n",
    "\n",
    "Same as initial thoughts."
   ]
  },
  {
   "cell_type": "code",
   "execution_count": 5,
   "metadata": {},
   "outputs": [
    {
     "data": {
      "text/plain": [
       "['d',\n",
       " 'o',\n",
       " 'g',\n",
       " '.',\n",
       " ' ',\n",
       " 'l',\n",
       " 'a',\n",
       " 'z',\n",
       " 'y',\n",
       " ' ',\n",
       " 't',\n",
       " 'h',\n",
       " 'e',\n",
       " ' ',\n",
       " 'o',\n",
       " 'v',\n",
       " 'e',\n",
       " 'r',\n",
       " ' ',\n",
       " 'j',\n",
       " 'u',\n",
       " 'm',\n",
       " 'p',\n",
       " 'e',\n",
       " 'd',\n",
       " ' ',\n",
       " 'f',\n",
       " 'o',\n",
       " 'x',\n",
       " ' ',\n",
       " 'b',\n",
       " 'r',\n",
       " 'o',\n",
       " 'w',\n",
       " 'n',\n",
       " ' ',\n",
       " 'q',\n",
       " 'u',\n",
       " 'i',\n",
       " 'c',\n",
       " 'k',\n",
       " ' ',\n",
       " 'T',\n",
       " 'h',\n",
       " 'e']"
      ]
     },
     "execution_count": 5,
     "metadata": {},
     "output_type": "execute_result"
    }
   ],
   "source": [
    "def reverse_words(sentence):\n",
    "    \n",
    "    # Reverse entire string in place\n",
    "    left, right = 0, len(sentence) - 1\n",
    "    while left < right:\n",
    "        sentence[left], sentence[right] = sentence[right], sentence[left]\n",
    "        left += 1\n",
    "        right -= 1\n",
    "    \n",
    "    # Reverse word by word going left to right\n",
    "    left, right = 0, 0\n",
    "    done = False\n",
    "    while not done:\n",
    "        # Move right pointer until we find end of word\n",
    "        while sentence[right + 1] != ' ':\n",
    "            right += 1\n",
    "            # Check if this is the end of the sentence\n",
    "            if right == len(sentence) - 1:\n",
    "                break\n",
    "        # Store index of end of word, we pick up from here later\n",
    "        tmp = right\n",
    "        # Reverse word\n",
    "        while left < right:\n",
    "            sentence[left], sentence[right] = sentence[right], sentence[left]\n",
    "            left += 1\n",
    "            right -= 1\n",
    "        # Check for end of sentence\n",
    "        if tmp == len(sentence) - 1:\n",
    "            return sentence\n",
    "        # Move to next word\n",
    "        else:\n",
    "            left, right = tmp + 2, tmp + 2\n",
    "    return -1\n",
    "        \n",
    "string = \"The quick brown fox jumped over the lazy dog.\"\n",
    "string = list(string)\n",
    "reverse_words(string)"
   ]
  },
  {
   "cell_type": "markdown",
   "metadata": {},
   "source": [
    "## Remove Duplicates from a String\n",
    "\n",
    "### Description\n",
    "\n",
    "Remove duplicate characters from a string which is passed by reference.\n",
    "\n",
    "### Example:\n",
    "\n",
    "N/A\n",
    "\n",
    "### Initial Thoughts\n",
    "\n",
    "Iterate through string, keeping track of characters we have seen via a hashmap. We set a pointer for the write index at the beginning of the array. If the current character is already seen, we do not increment the write index; otherwise, we write the current character and increment the pointer. Once we have gone through all characters, we can return up to the write pointer. The time and space complexity is O(n) since we have to iterate through the input array and have to create a dictionary that can be of size `n`. Note that in Python, strings are immutable so we will pass in as array of characters.\n",
    "\n",
    "### Optimal Solution\n",
    "\n",
    "Same as initial thoughts."
   ]
  },
  {
   "cell_type": "code",
   "execution_count": 7,
   "metadata": {},
   "outputs": [
    {
     "data": {
      "text/plain": [
       "['a', 'b', 'c', 'd']"
      ]
     },
     "execution_count": 7,
     "metadata": {},
     "output_type": "execute_result"
    }
   ],
   "source": [
    "def remove_duplicates(string):\n",
    "    wp = 0\n",
    "    seen = {}\n",
    "    for c in string:\n",
    "        # If character has not been seen, add it to the dict\n",
    "        if c not in seen:\n",
    "            seen[c] = True\n",
    "            string[wp] = c\n",
    "            wp += 1\n",
    "    # Return up to write pointer\n",
    "    return string[:wp]\n",
    "\n",
    "remove_duplicates([\"a\", \"b\", \"b\", \"a\", \"b\", \"c\", \"d\", \"d\", \"b\", \"a\"])\n",
    "        \n",
    "    \n",
    "    \n",
    "    "
   ]
  },
  {
   "cell_type": "code",
   "execution_count": null,
   "metadata": {},
   "outputs": [],
   "source": []
  }
 ],
 "metadata": {
  "kernelspec": {
   "display_name": "Python 3",
   "language": "python",
   "name": "python3"
  },
  "language_info": {
   "codemirror_mode": {
    "name": "ipython",
    "version": 3
   },
   "file_extension": ".py",
   "mimetype": "text/x-python",
   "name": "python",
   "nbconvert_exporter": "python",
   "pygments_lexer": "ipython3",
   "version": "3.7.1"
  }
 },
 "nbformat": 4,
 "nbformat_minor": 2
}
