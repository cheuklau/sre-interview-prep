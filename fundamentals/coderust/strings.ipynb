{
 "cells": [
  {
   "cell_type": "markdown",
   "metadata": {},
   "source": [
    "## Table of Contents"
   ]
  },
  {
   "cell_type": "markdown",
   "metadata": {},
   "source": [
    "## Reverse Words in a Sentence\n",
    "\n",
    "### Description\n",
    "\n",
    "Given a sentence (array of characters), reverse the order of the words.\n",
    "\n",
    "### Example:\n",
    "\n",
    "N/A\n",
    "\n",
    "### Initial Thoughts\n",
    "\n",
    "If we are allowed extra space, we could just iterate through the string, storing each word (based on space delimiter) and then iterate backwards through array appending to a string. We can also do this without extra space by first reversing the entire string in place then reverse each word in place. The time complexity is O(n) and space complexity is O(1).\n",
    "\n",
    "Note: You cannot reverse a string in place in Python because strings are immutable. For this problem, we will just represent the string as an array of chars.\n",
    "\n",
    "### Optimal Solution\n",
    "\n",
    "Same as initial thoughts."
   ]
  },
  {
   "cell_type": "code",
   "execution_count": 5,
   "metadata": {},
   "outputs": [
    {
     "data": {
      "text/plain": [
       "['d',\n",
       " 'o',\n",
       " 'g',\n",
       " '.',\n",
       " ' ',\n",
       " 'l',\n",
       " 'a',\n",
       " 'z',\n",
       " 'y',\n",
       " ' ',\n",
       " 't',\n",
       " 'h',\n",
       " 'e',\n",
       " ' ',\n",
       " 'o',\n",
       " 'v',\n",
       " 'e',\n",
       " 'r',\n",
       " ' ',\n",
       " 'j',\n",
       " 'u',\n",
       " 'm',\n",
       " 'p',\n",
       " 'e',\n",
       " 'd',\n",
       " ' ',\n",
       " 'f',\n",
       " 'o',\n",
       " 'x',\n",
       " ' ',\n",
       " 'b',\n",
       " 'r',\n",
       " 'o',\n",
       " 'w',\n",
       " 'n',\n",
       " ' ',\n",
       " 'q',\n",
       " 'u',\n",
       " 'i',\n",
       " 'c',\n",
       " 'k',\n",
       " ' ',\n",
       " 'T',\n",
       " 'h',\n",
       " 'e']"
      ]
     },
     "execution_count": 5,
     "metadata": {},
     "output_type": "execute_result"
    }
   ],
   "source": [
    "def reverse_words(sentence):\n",
    "    \n",
    "    # Reverse entire string in place\n",
    "    left, right = 0, len(sentence) - 1\n",
    "    while left < right:\n",
    "        sentence[left], sentence[right] = sentence[right], sentence[left]\n",
    "        left += 1\n",
    "        right -= 1\n",
    "    \n",
    "    # Reverse word by word going left to right\n",
    "    left, right = 0, 0\n",
    "    done = False\n",
    "    while not done:\n",
    "        # Move right pointer until we find end of word\n",
    "        while sentence[right + 1] != ' ':\n",
    "            right += 1\n",
    "            # Check if this is the end of the sentence\n",
    "            if right == len(sentence) - 1:\n",
    "                break\n",
    "        # Store index of end of word, we pick up from here later\n",
    "        tmp = right\n",
    "        # Reverse word\n",
    "        while left < right:\n",
    "            sentence[left], sentence[right] = sentence[right], sentence[left]\n",
    "            left += 1\n",
    "            right -= 1\n",
    "        # Check for end of sentence\n",
    "        if tmp == len(sentence) - 1:\n",
    "            return sentence\n",
    "        # Move to next word\n",
    "        else:\n",
    "            left, right = tmp + 2, tmp + 2\n",
    "    return -1\n",
    "        \n",
    "string = \"The quick brown fox jumped over the lazy dog.\"\n",
    "string = list(string)\n",
    "reverse_words(string)"
   ]
  },
  {
   "cell_type": "markdown",
   "metadata": {},
   "source": [
    "## Remove Duplicates from a String\n",
    "\n",
    "### Description\n",
    "\n",
    "Remove duplicate characters from a string which is passed by reference.\n",
    "\n",
    "### Example:\n",
    "\n",
    "N/A\n",
    "\n",
    "### Initial Thoughts\n",
    "\n",
    "Iterate through string, keeping track of characters we have seen via a hashmap. We set a pointer for the write index at the beginning of the array. If the current character is already seen, we do not increment the write index; otherwise, we write the current character and increment the pointer. Once we have gone through all characters, we can return up to the write pointer. The time and space complexity is O(n) since we have to iterate through the input array and have to create a dictionary that can be of size `n`. Note that in Python, strings are immutable so we will pass in as array of characters.\n",
    "\n",
    "### Optimal Solution\n",
    "\n",
    "Same as initial thoughts."
   ]
  },
  {
   "cell_type": "code",
   "execution_count": 9,
   "metadata": {},
   "outputs": [
    {
     "data": {
      "text/plain": [
       "['a', 'b', 'c', 'd']"
      ]
     },
     "execution_count": 9,
     "metadata": {},
     "output_type": "execute_result"
    }
   ],
   "source": [
    "def remove_duplicates(string):\n",
    "    wp = 0\n",
    "    seen = {}\n",
    "    for c in string:\n",
    "        # If character has not been seen, add it to the dict\n",
    "        if c not in seen:\n",
    "            seen[c] = True\n",
    "            string[wp] = c\n",
    "            wp += 1\n",
    "    # Return up to write pointer\n",
    "    return string[:wp]\n",
    "\n",
    "remove_duplicates([\"a\", \"b\", \"b\", \"a\", \"b\", \"c\", \"d\", \"d\", \"b\", \"a\"])    "
   ]
  },
  {
   "cell_type": "markdown",
   "metadata": {},
   "source": [
    "## Remove White Spaces from a String\n",
    "\n",
    "### Description\n",
    "\n",
    "Given a null terminated string, remove any white spaces (tabs or spaces).\n",
    "\n",
    "### Example:\n",
    "\n",
    "N/A\n",
    "\n",
    "### Initial Thoughts\n",
    "\n",
    "Set a write pointer to the start of the string. Iterate through each character of the string, if the character is not `' '` or `\\t` then store the character in the current element pointed to by the write pointer then increment the write pointer; otherwise leave the write pointer in place and move to the next character in the string. Time complexity is O(n) and space complexity is O(1). Note that in Python, strings are immutable so we will pass in string as an array of characters.\n",
    "\n",
    "### Optimal Solution\n",
    "\n",
    "Same as initial thoughts."
   ]
  },
  {
   "cell_type": "code",
   "execution_count": 27,
   "metadata": {},
   "outputs": [
    {
     "data": {
      "text/plain": [
       "['a', 'b', 'c']"
      ]
     },
     "execution_count": 27,
     "metadata": {},
     "output_type": "execute_result"
    }
   ],
   "source": [
    "def remove_white_spaces(s):\n",
    "    # Corner cases\n",
    "    if s is None or len(s) == 0:\n",
    "        return None\n",
    "    wp = 0\n",
    "    for c in s:\n",
    "        if c not in [' ', '\\t']:\n",
    "            s[wp] = c\n",
    "            wp += 1\n",
    "    return s[:wp]\n",
    "\n",
    "remove_white_spaces([\"a\", \"b\", \" \", \"c\", \"\\t\", \"\\t\"])"
   ]
  },
  {
   "cell_type": "markdown",
   "metadata": {},
   "source": [
    "## Word Break Problem\n",
    "\n",
    "### Description\n",
    "\n",
    "Given a dictionary of words and an input string, determine if input string can be completely segmented into dictionary words.\n",
    "\n",
    "### Example:\n",
    "\n",
    "N/A\n",
    "\n",
    "### Initial Thoughts\n",
    "\n",
    "We recursively check the first part of the input string to find if it contains a dictionary word. If it does then we recursively call it on the remainder of the string. Return true if input string completely segmented otherwise false. The time complexity is O(2^n) and the space complexity is O(n^2). \n",
    "\n",
    "### Optimal Solution\n",
    "\n",
    "Same as initial thoughts."
   ]
  },
  {
   "cell_type": "code",
   "execution_count": 29,
   "metadata": {},
   "outputs": [
    {
     "data": {
      "text/plain": [
       "True"
      ]
     },
     "execution_count": 29,
     "metadata": {},
     "output_type": "execute_result"
    }
   ],
   "source": [
    "def can_segment_string(s, dictionary):\n",
    "    for i in range(len(s)):\n",
    "        first = s[0:i]\n",
    "        if first in dictionary:\n",
    "            second = s[i:]\n",
    "            if not second or second in dictionary or can_segment_string(second, dictionary):\n",
    "                return True\n",
    "    return False\n",
    "\n",
    "s = \"hellonow\"\n",
    "dictionary = set([\"hello\",\"hell\",\"on\",\"ow\"])\n",
    "can_segment_string(s, dictionary)"
   ]
  },
  {
   "cell_type": "markdown",
   "metadata": {},
   "source": [
    "## Find all Palindrome Substrings\n",
    "\n",
    "### Description\n",
    "\n",
    "Given a string, find all substrings that are palindomes.\n",
    "\n",
    "### Example:\n",
    "\n",
    "N/A\n",
    "\n",
    "### Initial Thoughts\n",
    "\n",
    "We can iterate through the string. Each letter can either be the center of the palindrome in the case of an odd-numbered string, or the letter along with the next letter in the string are the center if the palindrome is an even-numbered string. Note that the latter can only be true if the two adjacent letters are the same. For each case, we can use two pointers to move forward and backwards at the same time, continuing as long as the pointers to the letters match. Once they no longer match or we reach the beginning or end of the string, we terminate the process for the current letter, and store the palindrome. The time complexity of this is O(n^2) since we have to visit each letter and for each letter we may have to visit every other node (e.g., if all the letters are the same). The space complexity is O(n^2) in the case where every letter is the same.\n",
    "\n",
    "### Optimal Solution\n",
    "\n",
    "Same as initial thoughts."
   ]
  },
  {
   "cell_type": "code",
   "execution_count": 37,
   "metadata": {},
   "outputs": [
    {
     "data": {
      "text/plain": [
       "['aba', 'xyzzyx']"
      ]
     },
     "execution_count": 37,
     "metadata": {},
     "output_type": "execute_result"
    }
   ],
   "source": [
    "def findAllPalindromicSubstrings(string):\n",
    "    if len(string) == 1:\n",
    "        return [string]\n",
    "    solution = []\n",
    "    longest = \"\"\n",
    "    for idx, letter in enumerate(string[:-1]):\n",
    "        # Case 1: Odd-length string\n",
    "        current = letter\n",
    "        idx_left, idx_right = idx - 1, idx + 1\n",
    "        tmp = findAllPalindromicSubstringsHelper(string, longest, current, idx_left, idx_right)\n",
    "        if tmp:\n",
    "            solution.append(tmp)\n",
    "        # Case 2: Even-length string\n",
    "        if letter == string[idx + 1]:\n",
    "            current = letter + letter\n",
    "            idx_left, idx_right = idx - 1, idx + 2\n",
    "            tmp = findAllPalindromicSubstringsHelper(string, longest, current, idx_left, idx_right)\n",
    "            if tmp:\n",
    "                solution.append(tmp)\n",
    "    return solution\n",
    "\n",
    "def findAllPalindromicSubstringsHelper(string, longest, current, idx_left, idx_right):\n",
    "    while idx_left >= 0 and idx_right < len(string):\n",
    "        if string[idx_left] == string[idx_right]:\n",
    "            current = string[idx_left : idx_right + 1]\n",
    "        else:\n",
    "            break\n",
    "        idx_left -= 1\n",
    "        idx_right += 1\n",
    "    if len(current) > 1:\n",
    "        return current\n",
    "    return None\n",
    "\n",
    "findAllPalindromicSubstrings(\"abaxyzzyxf\")"
   ]
  },
  {
   "cell_type": "markdown",
   "metadata": {},
   "source": [
    "## Regular Expression Matching in String\n",
    "\n",
    "### Description\n",
    "\n",
    "Given a text and a pattern, evaluate the pattern to see if it matches with the text by using regex matching.\n",
    "\n",
    "### Example:\n",
    "\n",
    "N/A\n",
    "\n",
    "### Initial Thoughts\n",
    "\n",
    "Assume that there are only two operators: `.` and `*` where `.` matches with one character and `*` matches with zero or more characters. We move down the text and the pattern, recursively checking the remainder of both. If their first characters match (note that `.` will match with any character) then we recursively call the function on the remainder of the text and pattern. If we reach a point in the pattern where we have a character followed by a `*` then we have to iterate through the remaining text recursively checking to see if the current character in the text matches the remainder of the character after the `*`.  We do this until we reach the end of the text or we find a character that doesn't match in which case we return `false`.  The time and space complexity is O(2^n). \n",
    "\n",
    "### Optimal Solution\n",
    "\n",
    "Same as initial thoughts."
   ]
  },
  {
   "cell_type": "code",
   "execution_count": 51,
   "metadata": {},
   "outputs": [
    {
     "data": {
      "text/plain": [
       "True"
      ]
     },
     "execution_count": 51,
     "metadata": {},
     "output_type": "execute_result"
    }
   ],
   "source": [
    "def regx_match_rec(text, pattern, i, j):\n",
    "    # If we have reached the end of the text and pattern then \n",
    "    # this is a match\n",
    "    if len(text) == i and len(pattern) == j:\n",
    "        return True\n",
    "    # We have reached a place in the pattern where we have\n",
    "    # character followed by a *\n",
    "    if j < len(pattern) - 1 and pattern[j + 1] == '*':\n",
    "        # Go through the rest of the text\n",
    "        for k in range(i, len(text) + 1):\n",
    "            # Check if the current character in the text matches\n",
    "            # the character after the * in the pattern, if so\n",
    "            # this is a match\n",
    "            if regx_match_rec(text, pattern, k, j + 2):\n",
    "                return True\n",
    "            # If we have reached the end of the text without matching\n",
    "            # then this is not a match\n",
    "            if k >= len(text):\n",
    "                return False\n",
    "            # If the first character in the pattern is not . which matches \n",
    "            # everything and the first character in the pattern and\n",
    "            # the text do not match then this is not a match\n",
    "            if pattern[j] != '.' and text[k] != pattern[j]:\n",
    "                return False\n",
    "    # We are at a place where we need to match characters between \n",
    "    # text and pattern (no * involved)\n",
    "    elif (i < len(text) and j < len(pattern) and (pattern[j] == '.' or pattern[j] == text[i])):\n",
    "        # Recursively call on the rest of the pattern after this match\n",
    "        return regx_match_rec(text, pattern, i + 1, j + 1)\n",
    "\n",
    "    # If we reach this point then we have a mismatch character between text\n",
    "    # and pattern so no match\n",
    "    return False\n",
    "\n",
    "def regx_match(text, pattern):\n",
    "    # start the recursive call setting pointer to text and pattern\n",
    "    # at zero indices\n",
    "    return regx_match_rec(text, pattern, 0, 0)\n",
    "\n",
    "regx_match(\"fabbc\", \".ab*c\")"
   ]
  },
  {
   "cell_type": "code",
   "execution_count": null,
   "metadata": {},
   "outputs": [],
   "source": []
  }
 ],
 "metadata": {
  "kernelspec": {
   "display_name": "Python 3",
   "language": "python",
   "name": "python3"
  },
  "language_info": {
   "codemirror_mode": {
    "name": "ipython",
    "version": 3
   },
   "file_extension": ".py",
   "mimetype": "text/x-python",
   "name": "python",
   "nbconvert_exporter": "python",
   "pygments_lexer": "ipython3",
   "version": "3.7.1"
  }
 },
 "nbformat": 4,
 "nbformat_minor": 2
}
