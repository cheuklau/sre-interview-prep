{
 "cells": [
  {
   "cell_type": "code",
   "execution_count": 1,
   "metadata": {},
   "outputs": [
    {
     "data": {
      "text/plain": [
       "2"
      ]
     },
     "execution_count": 1,
     "metadata": {},
     "output_type": "execute_result"
    }
   ],
   "source": [
    "def solution(x, y):\n",
    "    \"\"\"\n",
    "    Find extra number in one of the arrays.\n",
    "    \n",
    "    \"\"\"\n",
    "    \n",
    "    if len(x) > len(y):\n",
    "        longer = x\n",
    "        shorter = y\n",
    "    else:\n",
    "        longer = y\n",
    "        shorter = x\n",
    "    longer.sort()\n",
    "    shorter.sort()\n",
    "    \n",
    "    for idx, num in enumerate(shorter):\n",
    "        if num != longer[idx]:\n",
    "            return longer[idx]\n",
    "solution([1, 3, 4, 6], [1, 2, 3, 4, 6])"
   ]
  },
  {
   "cell_type": "code",
   "execution_count": 4,
   "metadata": {},
   "outputs": [
    {
     "data": {
      "text/plain": [
       "5"
      ]
     },
     "execution_count": 4,
     "metadata": {},
     "output_type": "execute_result"
    }
   ],
   "source": [
    "def solution(src, dest):\n",
    "    \"\"\"\n",
    "    Find minimum moves between two points on a chessboard using L-moves.\n",
    "    \n",
    "    \"\"\"\n",
    "    \n",
    "    # Convert src and dest to 2d grid\n",
    "    src_row = src // 8\n",
    "    src_col = src % 8\n",
    "    dest_row = dest // 8\n",
    "    dest_col = dest % 8\n",
    "\n",
    "    # Possible moves\n",
    "    xmoves = [2, 2, -2, -2, 1, 1, -1, -1]\n",
    "    ymoves = [1, -1, 1, -1, 2, -2, 2, -2]\n",
    "    \n",
    "    # Initialize grid of visited items\n",
    "    visited = [[False for i in range(8)] for j in range(8)]\n",
    "    \n",
    "    # Visit starting position\n",
    "    visited[src_row][src_col] = True\n",
    "    \n",
    "    # Perform BFS over grid\n",
    "    queue = []\n",
    "    queue.append([src_row, src_col, 0])\n",
    "    while len(queue) > 0:\n",
    "        tmp = queue.pop(0)\n",
    "        if tmp[0] == dest_row and tmp[1] == dest_col:\n",
    "            return tmp[2]\n",
    "        \n",
    "        # Go through all possible moves\n",
    "        for idx, xmove in enumerate(xmoves):\n",
    "            xpos = tmp[0] + xmove\n",
    "            ypos = tmp[1] + ymoves[idx]\n",
    "            \n",
    "            if xpos >= 0 and xpos < 8 and ypos >= 0 and ypos < 8 and not visited[xpos][ypos]:\n",
    "                visited[xpos][ypos] = True\n",
    "                queue.append([xpos, ypos, tmp[2]+1])\n",
    "\n",
    "solution(0, 39)"
   ]
  },
  {
   "cell_type": "code",
   "execution_count": 74,
   "metadata": {},
   "outputs": [
    {
     "data": {
      "text/plain": [
       "6"
      ]
     },
     "execution_count": 74,
     "metadata": {},
     "output_type": "execute_result"
    }
   ],
   "source": [
    "def solution(l):\n",
    "\n",
    "    # Initialize array to store indices of divisible integers\n",
    "    div_indices = [[] for x in l]\n",
    "    \n",
    "    # Populate the array with a forward pass\n",
    "    for i, div_index in enumerate(div_indices):\n",
    "        if i == 0:\n",
    "            div_indices[i] = None\n",
    "        for i2, div_index2 in enumerate(div_indices[i+1:]):\n",
    "            i_act = i + i2 + 1\n",
    "            if l[i_act] % l[i] == 0:\n",
    "                div_indices[i_act].append(i)\n",
    "    \n",
    "    # Another forward pass to find the triplets\n",
    "    solution = 0\n",
    "    for i, div_index in enumerate(div_indices):\n",
    "        if i == 0 or i == 1:\n",
    "            continue\n",
    "            \n",
    "        # Go through all indices in current storage\n",
    "        for i2, div_index2 in enumerate(div_index):\n",
    "            if div_indices[div_index2]:\n",
    "                for i3, div_index3 in enumerate(div_indices[div_index2]):\n",
    "                    solution += 1                \n",
    "    return solution\n",
    "        \n",
    "solution([1, 2, 3, 4, 4, 5, 6])"
   ]
  },
  {
   "cell_type": "code",
   "execution_count": 75,
   "metadata": {},
   "outputs": [
    {
     "data": {
      "text/plain": [
       "6"
      ]
     },
     "execution_count": 75,
     "metadata": {},
     "output_type": "execute_result"
    }
   ],
   "source": [
    "# Way cleaner way\n",
    "def solution(l):\n",
    "    c = [0] * len(l)\n",
    "    count = 0\n",
    "    for i in range(0,len(l)):\n",
    "        for j in range(0, i):\n",
    "            if l[i] % l[j] == 0:\n",
    "                c[i] = c[i] + 1\n",
    "                count = count + c[j]\n",
    "    return count\n",
    "solution([1, 2, 3, 4, 4, 5, 6])"
   ]
  },
  {
   "cell_type": "code",
   "execution_count": 45,
   "metadata": {},
   "outputs": [
    {
     "data": {
      "text/plain": [
       "'4'"
      ]
     },
     "execution_count": 45,
     "metadata": {},
     "output_type": "execute_result"
    }
   ],
   "source": [
    "def solution(x, y):\n",
    "    x, y = int(x), int(y)\n",
    "    if x == 1 and y == 1:\n",
    "        return \"0\"\n",
    "    elif x == 1 and y == 2 or x == 2 and y == 1:\n",
    "        return \"1\"\n",
    "    # Only need to consider half the tree at this point\n",
    "    result = helper(1, [1, 2], x, y)\n",
    "    if result > 0:\n",
    "        return str(result)\n",
    "    return \"impossible\"\n",
    "\n",
    "def helper(d, node, x, y):\n",
    "    node_sorted, xy_sorted = node, [x, y]\n",
    "    node_sorted.sort()\n",
    "    xy_sorted.sort()\n",
    "    if node_sorted == xy_sorted:\n",
    "        return d\n",
    "    elif node_sorted[0] > xy_sorted[0] or node_sorted[1] > xy_sorted[1]:\n",
    "        return -1\n",
    "    return max(helper(d + 1, [node[0]+node[1], node[1]], x, y), helper(d + 1, [node[0], node[1]+node[0]], x, y))\n",
    "\n",
    "solution(\"4\", \"7\")"
   ]
  },
  {
   "cell_type": "code",
   "execution_count": 48,
   "metadata": {},
   "outputs": [
    {
     "data": {
      "text/plain": [
       "'4'"
      ]
     },
     "execution_count": 48,
     "metadata": {},
     "output_type": "execute_result"
    }
   ],
   "source": [
    "# Recursive solution above goes too deep into the stack\n",
    "def solution(x, y):\n",
    "    x, y = int(x), int(y)\n",
    "    if x == 1 and y == 1:\n",
    "        return \"0\"\n",
    "    queue = [[0, [1, 1]]]\n",
    "    limit = max(x,y)\n",
    "    while len(queue) > 0:\n",
    "        tmp = queue.pop(0)\n",
    "        d = tmp[0]\n",
    "        v = tmp[1]\n",
    "        if v[0] == x and v[1] == y:\n",
    "            return str(d)\n",
    "        elif v[0] > limit or v[1] > limit:\n",
    "            continue\n",
    "        if abs(v[0]+v[1]-x) <= abs(v[0]-x):\n",
    "            queue.append([d+1, [v[0]+v[1], v[1]]])\n",
    "        if abs(v[0]+v[1]-y) <= abs(v[1]-y):\n",
    "            queue.append([d+1, [v[0], v[0]+v[1]]])\n",
    "    return \"impossible\"\n",
    "\n",
    "solution(\"4\", \"7\")"
   ]
  },
  {
   "cell_type": "code",
   "execution_count": null,
   "metadata": {},
   "outputs": [],
   "source": []
  }
 ],
 "metadata": {
  "kernelspec": {
   "display_name": "Python 3",
   "language": "python",
   "name": "python3"
  },
  "language_info": {
   "codemirror_mode": {
    "name": "ipython",
    "version": 3
   },
   "file_extension": ".py",
   "mimetype": "text/x-python",
   "name": "python",
   "nbconvert_exporter": "python",
   "pygments_lexer": "ipython3",
   "version": "3.7.1"
  }
 },
 "nbformat": 4,
 "nbformat_minor": 2
}
