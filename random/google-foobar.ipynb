{
 "cells": [
  {
   "cell_type": "code",
   "execution_count": 1,
   "metadata": {},
   "outputs": [
    {
     "data": {
      "text/plain": [
       "2"
      ]
     },
     "execution_count": 1,
     "metadata": {},
     "output_type": "execute_result"
    }
   ],
   "source": [
    "def solution(x, y):\n",
    "    \"\"\"\n",
    "    Find extra number in one of the arrays.\n",
    "    \n",
    "    \"\"\"\n",
    "    \n",
    "    if len(x) > len(y):\n",
    "        longer = x\n",
    "        shorter = y\n",
    "    else:\n",
    "        longer = y\n",
    "        shorter = x\n",
    "    longer.sort()\n",
    "    shorter.sort()\n",
    "    \n",
    "    for idx, num in enumerate(shorter):\n",
    "        if num != longer[idx]:\n",
    "            return longer[idx]\n",
    "solution([1, 3, 4, 6], [1, 2, 3, 4, 6])"
   ]
  },
  {
   "cell_type": "code",
   "execution_count": 4,
   "metadata": {},
   "outputs": [
    {
     "data": {
      "text/plain": [
       "5"
      ]
     },
     "execution_count": 4,
     "metadata": {},
     "output_type": "execute_result"
    }
   ],
   "source": [
    "def solution(src, dest):\n",
    "    \"\"\"\n",
    "    Find minimum moves between two points on a chessboard using L-moves.\n",
    "    \n",
    "    \"\"\"\n",
    "    \n",
    "    # Convert src and dest to 2d grid\n",
    "    src_row = src // 8\n",
    "    src_col = src % 8\n",
    "    dest_row = dest // 8\n",
    "    dest_col = dest % 8\n",
    "\n",
    "    # Possible moves\n",
    "    xmoves = [2, 2, -2, -2, 1, 1, -1, -1]\n",
    "    ymoves = [1, -1, 1, -1, 2, -2, 2, -2]\n",
    "    \n",
    "    # Initialize grid of visited items\n",
    "    visited = [[False for i in range(8)] for j in range(8)]\n",
    "    \n",
    "    # Visit starting position\n",
    "    visited[src_row][src_col] = True\n",
    "    \n",
    "    # Perform BFS over grid\n",
    "    queue = []\n",
    "    queue.append([src_row, src_col, 0])\n",
    "    while len(queue) > 0:\n",
    "        tmp = queue.pop(0)\n",
    "        if tmp[0] == dest_row and tmp[1] == dest_col:\n",
    "            return tmp[2]\n",
    "        \n",
    "        # Go through all possible moves\n",
    "        for idx, xmove in enumerate(xmoves):\n",
    "            xpos = tmp[0] + xmove\n",
    "            ypos = tmp[1] + ymoves[idx]\n",
    "            \n",
    "            if xpos >= 0 and xpos < 8 and ypos >= 0 and ypos < 8 and not visited[xpos][ypos]:\n",
    "                visited[xpos][ypos] = True\n",
    "                queue.append([xpos, ypos, tmp[2]+1])\n",
    "\n",
    "solution(0, 39)"
   ]
  },
  {
   "cell_type": "code",
   "execution_count": 72,
   "metadata": {},
   "outputs": [
    {
     "name": "stdout",
     "output_type": "stream",
     "text": [
      "[None, [0], [0], [0, 1], [0, 1, 3], [0], [0, 1, 2]]\n",
      "4 2 1\n",
      "4 2 1\n",
      "4 4 1\n",
      "4 4 2\n",
      "6 2 1\n",
      "6 3 1\n"
     ]
    },
    {
     "data": {
      "text/plain": [
       "6"
      ]
     },
     "execution_count": 72,
     "metadata": {},
     "output_type": "execute_result"
    }
   ],
   "source": [
    "def solution(l):\n",
    "\n",
    "    # Initialize array to store indices of divisible integers\n",
    "    div_indices = [[] for x in l]\n",
    "    \n",
    "    # Populate the array with a forward pass\n",
    "    for i, div_index in enumerate(div_indices):\n",
    "        if i == 0:\n",
    "            div_indices[i] = None\n",
    "        for i2, div_index2 in enumerate(div_indices[i+1:]):\n",
    "            i_act = i + i2 + 1\n",
    "            if l[i_act] % l[i] == 0:\n",
    "                div_indices[i_act].append(i)\n",
    "    print(div_indices)\n",
    "    \n",
    "    # Another forward pass to find the triplets\n",
    "    solution = 0\n",
    "    for i, div_index in enumerate(div_indices):\n",
    "        if i == 0 or i == 1:\n",
    "            continue\n",
    "            \n",
    "        # Go through all indices in current storage\n",
    "        for i2, div_index2 in enumerate(div_index):\n",
    "            if div_indices[div_index2]:\n",
    "                for i3, div_index3 in enumerate(div_indices[div_index2]):\n",
    "                    print(l[i], l[div_index2], l[div_index3])\n",
    "                    solution += 1                \n",
    "    return solution\n",
    "        \n",
    "solution([1, 2, 3, 4, 4, 5, 6])\n",
    "        \n",
    "    "
   ]
  },
  {
   "cell_type": "code",
   "execution_count": 61,
   "metadata": {},
   "outputs": [
    {
     "data": {
      "text/plain": [
       "6"
      ]
     },
     "execution_count": 61,
     "metadata": {},
     "output_type": "execute_result"
    }
   ],
   "source": [
    "def solution(l):\n",
    "    c = [0] * len(l)\n",
    "    count = 0\n",
    "    for i in range(0,len(l)):\n",
    "        for j in range(0, i):\n",
    "            if l[i] % l[j] == 0:\n",
    "                c[i] = c[i] + 1\n",
    "                count = count + c[j]\n",
    "    return count\n",
    "solution([1, 2, 3, 4, 4, 5, 6])"
   ]
  },
  {
   "cell_type": "code",
   "execution_count": null,
   "metadata": {},
   "outputs": [],
   "source": []
  }
 ],
 "metadata": {
  "kernelspec": {
   "display_name": "Python 3",
   "language": "python",
   "name": "python3"
  },
  "language_info": {
   "codemirror_mode": {
    "name": "ipython",
    "version": 3
   },
   "file_extension": ".py",
   "mimetype": "text/x-python",
   "name": "python",
   "nbconvert_exporter": "python",
   "pygments_lexer": "ipython3",
   "version": "3.7.1"
  }
 },
 "nbformat": 4,
 "nbformat_minor": 2
}
